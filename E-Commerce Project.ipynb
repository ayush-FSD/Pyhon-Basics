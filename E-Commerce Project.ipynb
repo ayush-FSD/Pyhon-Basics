  {
   "cell_type": "markdown",
   "id": "daf5d935",
   "metadata": {},
   "source": [
    "## Load the necessary libraries. Import and load the dataset with a name ECom_Data ."
   ]
  },
  {
   "cell_type": "code",
   "execution_count": 1,
   "id": "eec2a3b5",
   "metadata": {},
   "outputs": [],
   "source": [
    "import numpy as np\n",
    "import pandas as pd\n",
    "from pandas import Series, DataFrame\n",
    "import matplotlib.pyplot as plt\n",
    "import seaborn as sns\n",
    "pd.options.display.max_rows = 10\n",
    "import warnings\n",
    "warnings.filterwarnings('ignore')\n",
    "import os\n",
    "os.chdir('C:/Users/AAYUSH/Desktop/GL DSBA/Python')"
   ]
  },
  {
   "cell_type": "code",
   "execution_count": 2,
   "id": "8e1fcc97",
   "metadata": {},
   "outputs": [],
   "source": [
    "# Get the Data\n",
    "\n",
    "ECom_Data=pd.read_csv(\"E-Commerce.csv\")"
   ]
  },
  {
   "cell_type": "markdown",
   "id": "2cf5f20f",
   "metadata": {},
   "source": [
    "<font color='blue'>\n",
    "    <font size = 5>\n",
    "        We have read the data and stored the data in \"ECom_Data\" variable </font>"
   ]
  },
  {
   "cell_type": "markdown",
   "id": "a0a4f84a",
   "metadata": {},
   "source": [
    "## Q 1.\tTo get familiar with the data\n",
    "## a)\tPrint out the first 10 and the last 10 records of the data. (2 marks)\n",
    "## b)\tHow many rows and columns are present in the dataset? Use any two different methods to extract this information. (2 + 2 + 2 marks)\n",
    "## c)\tHow many object data types are there? (1 mark)\n",
    "## d)\tIs there any Boolean data type? (1 mark) \n",
    "#### Note: Use the markdown feature of Python to explain your answer.\n"
   ]
  },
  {
   "cell_type": "markdown",
   "id": "d05f825a",
   "metadata": {},
   "source": [
    "#### Ans 1 a) The head() and tail() functions are used to display the first and last records of any dataset. Passing a numeric value in these functions would return the respective number of records."
   ]
  },
  {
   "cell_type": "code",
   "execution_count": 3,
   "id": "55ad77c3",
   "metadata": {},
   "outputs": [
    {
     "data": {
      "text/html": [
       "<div>\n",
       "<style scoped>\n",
       "    .dataframe tbody tr th:only-of-type {\n",
       "        vertical-align: middle;\n",
       "    }\n",
       "\n",
       "    .dataframe tbody tr th {\n",
       "        vertical-align: top;\n",
       "    }\n",
       "\n",
       "    .dataframe thead th {\n",
       "        text-align: right;\n",
       "    }\n",
       "</style>\n",
       "<table border=\"1\" class=\"dataframe\">\n",
       "  <thead>\n",
       "    <tr style=\"text-align: right;\">\n",
       "      <th></th>\n",
       "      <th>Customer_uniq_id</th>\n",
       "      <th>Region</th>\n",
       "      <th>Order_Date</th>\n",
       "      <th>Expected_Delivery_Date</th>\n",
       "      <th>Delivered_Date</th>\n",
       "      <th>product_name</th>\n",
       "      <th>product_main_category</th>\n",
       "      <th>product_subcategory</th>\n",
       "      <th>product_category_filter</th>\n",
       "      <th>product_category_subfilter</th>\n",
       "      <th>product_unique ID</th>\n",
       "      <th>retail_price</th>\n",
       "      <th>discounted_price</th>\n",
       "      <th>product_rating</th>\n",
       "      <th>Brand</th>\n",
       "      <th>product_specifications</th>\n",
       "      <th>description</th>\n",
       "    </tr>\n",
       "  </thead>\n",
       "  <tbody>\n",
       "    <tr>\n",
       "      <th>0</th>\n",
       "      <td>e71017e224688489edfe856f2308806d</td>\n",
       "      <td>East</td>\n",
       "      <td>24-10-2021</td>\n",
       "      <td>25-10-2021</td>\n",
       "      <td>25-10-2021</td>\n",
       "      <td>Indcrown Net Embroidered Semi-stitched Lehenga...</td>\n",
       "      <td>Clothing</td>\n",
       "      <td>Women's Clothing</td>\n",
       "      <td>Ethnic Wear</td>\n",
       "      <td>Fabric</td>\n",
       "      <td>FABEJX2NHNKCYHKA</td>\n",
       "      <td>999</td>\n",
       "      <td>699</td>\n",
       "      <td>4.0</td>\n",
       "      <td>INDCROWN</td>\n",
       "      <td>{\"product_specification\"=&gt;[{\"key\"=&gt;\"Fabric\", \"...</td>\n",
       "      <td>Key Features of Indcrown Net Embroidered Semi-...</td>\n",
       "    </tr>\n",
       "    <tr>\n",
       "      <th>1</th>\n",
       "      <td>6286847ee2da18f587503db49511c539</td>\n",
       "      <td>East</td>\n",
       "      <td>24-10-2021</td>\n",
       "      <td>25-10-2021</td>\n",
       "      <td>25-10-2021</td>\n",
       "      <td>Shopmania Music Band A5 Notebook Spiral Bound</td>\n",
       "      <td>Pens &amp; Stationery</td>\n",
       "      <td>Diaries &amp; Notebooks</td>\n",
       "      <td>Notebooks</td>\n",
       "      <td>Designer</td>\n",
       "      <td>DIAEJ6Z8BEDTGGYY</td>\n",
       "      <td>499</td>\n",
       "      <td>275</td>\n",
       "      <td>1.0</td>\n",
       "      <td>SHOPMANIA</td>\n",
       "      <td>{\"product_specification\"=&gt;[{\"key\"=&gt;\"Ruling\", \"...</td>\n",
       "      <td>Specifications of Shopmania Music Band A5 Note...</td>\n",
       "    </tr>\n",
       "    <tr>\n",
       "      <th>2</th>\n",
       "      <td>0686fec9b70e5039583a38119ca0c835</td>\n",
       "      <td>West</td>\n",
       "      <td>24-10-2021</td>\n",
       "      <td>25-10-2021</td>\n",
       "      <td>25-10-2021</td>\n",
       "      <td>Shopmania Music Band A5 Notebook Spiral Bound</td>\n",
       "      <td>Pens &amp; Stationery</td>\n",
       "      <td>Diaries &amp; Notebooks</td>\n",
       "      <td>Notebooks</td>\n",
       "      <td>Designer</td>\n",
       "      <td>DIAEJ6Z8KQFWDEGH</td>\n",
       "      <td>499</td>\n",
       "      <td>275</td>\n",
       "      <td>2.0</td>\n",
       "      <td>SHOPMANIA</td>\n",
       "      <td>{\"product_specification\"=&gt;[{\"key\"=&gt;\"Ruling\", \"...</td>\n",
       "      <td>Specifications of Shopmania Music Band A5 Note...</td>\n",
       "    </tr>\n",
       "    <tr>\n",
       "      <th>3</th>\n",
       "      <td>ea2406dc597bee2abb6b867fa668501f</td>\n",
       "      <td>West</td>\n",
       "      <td>24-10-2021</td>\n",
       "      <td>25-10-2021</td>\n",
       "      <td>25-10-2021</td>\n",
       "      <td>Tiara Diaries 2016-2017 Designer LA Kaarta \"TA...</td>\n",
       "      <td>Pens &amp; Stationery</td>\n",
       "      <td>Diaries &amp; Notebooks</td>\n",
       "      <td>Notebooks</td>\n",
       "      <td>Designer</td>\n",
       "      <td>DIAEJ8FGHZ3K86JU</td>\n",
       "      <td>1000</td>\n",
       "      <td>837</td>\n",
       "      <td>3.0</td>\n",
       "      <td>TIARA DIARIES</td>\n",
       "      <td>{\"product_specification\"=&gt;[{\"key\"=&gt;\"Ruling\", \"...</td>\n",
       "      <td>Specifications of Tiara Diaries 2016-2017 Desi...</td>\n",
       "    </tr>\n",
       "    <tr>\n",
       "      <th>4</th>\n",
       "      <td>5935ed077915347dc695744df68c565c</td>\n",
       "      <td>East</td>\n",
       "      <td>03-09-2021</td>\n",
       "      <td>04-09-2021</td>\n",
       "      <td>04-09-2021</td>\n",
       "      <td>KAJCI Embroidered Women's Waistcoat</td>\n",
       "      <td>Clothing</td>\n",
       "      <td>Women's Clothing</td>\n",
       "      <td>Formal Wear</td>\n",
       "      <td>Waistcoats</td>\n",
       "      <td>WSCEG2FYDYFDSVZ6</td>\n",
       "      <td>1200</td>\n",
       "      <td>699</td>\n",
       "      <td>5.0</td>\n",
       "      <td>KAJCI</td>\n",
       "      <td>{\"product_specification\"=&gt;[{\"key\"=&gt;\"Pattern\", ...</td>\n",
       "      <td>Specifications of KAJCI Embroidered Women's Wa...</td>\n",
       "    </tr>\n",
       "    <tr>\n",
       "      <th>5</th>\n",
       "      <td>89fcdddaad50084e395d0928a7426afe</td>\n",
       "      <td>East</td>\n",
       "      <td>03-09-2021</td>\n",
       "      <td>04-09-2021</td>\n",
       "      <td>04-09-2021</td>\n",
       "      <td>Packman 8 x 10 inches Security Bags Without PO...</td>\n",
       "      <td>Pens &amp; Stationery</td>\n",
       "      <td>Office Supplies</td>\n",
       "      <td>Packaging Security Bags</td>\n",
       "      <td>Packman Packaging Security Bags</td>\n",
       "      <td>PKBEGBTRKKHU26YQ</td>\n",
       "      <td>350</td>\n",
       "      <td>298</td>\n",
       "      <td>4.0</td>\n",
       "      <td>PACKMAN</td>\n",
       "      <td>{\"product_specification\"=&gt;[{\"key\"=&gt;\"Bubble Wra...</td>\n",
       "      <td>Key Features of Packman 8 x 10 inches Security...</td>\n",
       "    </tr>\n",
       "    <tr>\n",
       "      <th>6</th>\n",
       "      <td>b9b183aa18d3a721d2ac23e7184525b0</td>\n",
       "      <td>East</td>\n",
       "      <td>03-09-2021</td>\n",
       "      <td>04-09-2021</td>\n",
       "      <td>04-09-2021</td>\n",
       "      <td>Pick Pocket Embroidered Women's Waistcoat</td>\n",
       "      <td>Clothing</td>\n",
       "      <td>Women's Clothing</td>\n",
       "      <td>Formal Wear</td>\n",
       "      <td>Waistcoats</td>\n",
       "      <td>WSCEFUV4TVWT73ZB</td>\n",
       "      <td>899</td>\n",
       "      <td>899</td>\n",
       "      <td>1.0</td>\n",
       "      <td>PICK POCKET</td>\n",
       "      <td>{\"product_specification\"=&gt;[{\"key\"=&gt;\"Pattern\", ...</td>\n",
       "      <td>Specifications of Pick Pocket Embroidered Wome...</td>\n",
       "    </tr>\n",
       "    <tr>\n",
       "      <th>7</th>\n",
       "      <td>dee64864c0419bec80fbbb94d19bc40d</td>\n",
       "      <td>East</td>\n",
       "      <td>03-09-2021</td>\n",
       "      <td>04-09-2021</td>\n",
       "      <td>04-09-2021</td>\n",
       "      <td>Angelfish Silk Potali Potli</td>\n",
       "      <td>Bags, Wallets &amp; Belts</td>\n",
       "      <td>Bags</td>\n",
       "      <td>Pouches and Potlis</td>\n",
       "      <td>Angelfish Pouches and Potlis</td>\n",
       "      <td>PPSEGFYAGD8FYUXV</td>\n",
       "      <td>999</td>\n",
       "      <td>399</td>\n",
       "      <td>4.0</td>\n",
       "      <td>ANGELFISH</td>\n",
       "      <td>{\"product_specification\"=&gt;[{\"key\"=&gt;\"Closure\", ...</td>\n",
       "      <td>Angelfish Silk Potali Potli (Multicolor) Price...</td>\n",
       "    </tr>\n",
       "    <tr>\n",
       "      <th>8</th>\n",
       "      <td>595f55f2c1293f07ea9ec9fa2bb39f46</td>\n",
       "      <td>East</td>\n",
       "      <td>03-09-2021</td>\n",
       "      <td>04-09-2021</td>\n",
       "      <td>04-09-2021</td>\n",
       "      <td>Oye Boy's Dungaree</td>\n",
       "      <td>Clothing</td>\n",
       "      <td>Kids' Clothing</td>\n",
       "      <td>Boys Wear</td>\n",
       "      <td>Dungarees &amp; Jumpsuits</td>\n",
       "      <td>DRPEF2XSFBAP4SUZ</td>\n",
       "      <td>899</td>\n",
       "      <td>764</td>\n",
       "      <td>1.0</td>\n",
       "      <td>OYE</td>\n",
       "      <td>{\"product_specification\"=&gt;[{\"key\"=&gt;\"Number of ...</td>\n",
       "      <td>Specifications of Oye Boy's Dungaree Top Detai...</td>\n",
       "    </tr>\n",
       "    <tr>\n",
       "      <th>9</th>\n",
       "      <td>547b6585272473ae006bcfbdb47b6ae0</td>\n",
       "      <td>West</td>\n",
       "      <td>26-08-2021</td>\n",
       "      <td>27-08-2021</td>\n",
       "      <td>27-08-2021</td>\n",
       "      <td>Nuride Canvas Shoes</td>\n",
       "      <td>Footwear</td>\n",
       "      <td>Women's Footwear</td>\n",
       "      <td>Casual Shoes</td>\n",
       "      <td>Canvas</td>\n",
       "      <td>SHOEGVQCT2ZSGUHY</td>\n",
       "      <td>1999</td>\n",
       "      <td>1349</td>\n",
       "      <td>2.0</td>\n",
       "      <td>NURIDE</td>\n",
       "      <td>{\"product_specification\"=&gt;[{\"key\"=&gt;\"Occasion\",...</td>\n",
       "      <td>Key Features of Nuride Canvas Shoes Material: ...</td>\n",
       "    </tr>\n",
       "  </tbody>\n",
       "</table>\n",
       "</div>"
      ],
      "text/plain": [
       "                   Customer_uniq_id Region  Order_Date Expected_Delivery_Date  \\\n",
       "0  e71017e224688489edfe856f2308806d  East   24-10-2021             25-10-2021   \n",
       "1  6286847ee2da18f587503db49511c539  East   24-10-2021             25-10-2021   \n",
       "2  0686fec9b70e5039583a38119ca0c835   West  24-10-2021             25-10-2021   \n",
       "3  ea2406dc597bee2abb6b867fa668501f   West  24-10-2021             25-10-2021   \n",
       "4  5935ed077915347dc695744df68c565c  East   03-09-2021             04-09-2021   \n",
       "5  89fcdddaad50084e395d0928a7426afe  East   03-09-2021             04-09-2021   \n",
       "6  b9b183aa18d3a721d2ac23e7184525b0  East   03-09-2021             04-09-2021   \n",
       "7  dee64864c0419bec80fbbb94d19bc40d  East   03-09-2021             04-09-2021   \n",
       "8  595f55f2c1293f07ea9ec9fa2bb39f46  East   03-09-2021             04-09-2021   \n",
       "9  547b6585272473ae006bcfbdb47b6ae0   West  26-08-2021             27-08-2021   \n",
       "\n",
       "  Delivered_Date                                       product_name  \\\n",
       "0     25-10-2021  Indcrown Net Embroidered Semi-stitched Lehenga...   \n",
       "1     25-10-2021      Shopmania Music Band A5 Notebook Spiral Bound   \n",
       "2     25-10-2021      Shopmania Music Band A5 Notebook Spiral Bound   \n",
       "3     25-10-2021  Tiara Diaries 2016-2017 Designer LA Kaarta \"TA...   \n",
       "4     04-09-2021                KAJCI Embroidered Women's Waistcoat   \n",
       "5     04-09-2021  Packman 8 x 10 inches Security Bags Without PO...   \n",
       "6     04-09-2021          Pick Pocket Embroidered Women's Waistcoat   \n",
       "7     04-09-2021                        Angelfish Silk Potali Potli   \n",
       "8     04-09-2021                                 Oye Boy's Dungaree   \n",
       "9     27-08-2021                                Nuride Canvas Shoes   \n",
       "\n",
       "    product_main_category    product_subcategory    product_category_filter  \\\n",
       "0               Clothing       Women's Clothing                Ethnic Wear    \n",
       "1      Pens & Stationery    Diaries & Notebooks                  Notebooks    \n",
       "2      Pens & Stationery    Diaries & Notebooks                  Notebooks    \n",
       "3      Pens & Stationery    Diaries & Notebooks                  Notebooks    \n",
       "4               Clothing       Women's Clothing                Formal Wear    \n",
       "5      Pens & Stationery        Office Supplies    Packaging Security Bags    \n",
       "6               Clothing       Women's Clothing                Formal Wear    \n",
       "7  Bags, Wallets & Belts                   Bags         Pouches and Potlis    \n",
       "8               Clothing         Kids' Clothing                  Boys Wear    \n",
       "9               Footwear       Women's Footwear               Casual Shoes    \n",
       "\n",
       "          product_category_subfilter product_unique ID  retail_price  \\\n",
       "0                            Fabric   FABEJX2NHNKCYHKA           999   \n",
       "1                          Designer   DIAEJ6Z8BEDTGGYY           499   \n",
       "2                          Designer   DIAEJ6Z8KQFWDEGH           499   \n",
       "3                          Designer   DIAEJ8FGHZ3K86JU          1000   \n",
       "4                        Waistcoats   WSCEG2FYDYFDSVZ6          1200   \n",
       "5   Packman Packaging Security Bags   PKBEGBTRKKHU26YQ           350   \n",
       "6                        Waistcoats   WSCEFUV4TVWT73ZB           899   \n",
       "7      Angelfish Pouches and Potlis   PPSEGFYAGD8FYUXV           999   \n",
       "8             Dungarees & Jumpsuits   DRPEF2XSFBAP4SUZ           899   \n",
       "9                            Canvas   SHOEGVQCT2ZSGUHY          1999   \n",
       "\n",
       "   discounted_price  product_rating          Brand  \\\n",
       "0               699             4.0       INDCROWN   \n",
       "1               275             1.0      SHOPMANIA   \n",
       "2               275             2.0      SHOPMANIA   \n",
       "3               837             3.0  TIARA DIARIES   \n",
       "4               699             5.0          KAJCI   \n",
       "5               298             4.0        PACKMAN   \n",
       "6               899             1.0    PICK POCKET   \n",
       "7               399             4.0      ANGELFISH   \n",
       "8               764             1.0            OYE   \n",
       "9              1349             2.0         NURIDE   \n",
       "\n",
       "                              product_specifications  \\\n",
       "0  {\"product_specification\"=>[{\"key\"=>\"Fabric\", \"...   \n",
       "1  {\"product_specification\"=>[{\"key\"=>\"Ruling\", \"...   \n",
       "2  {\"product_specification\"=>[{\"key\"=>\"Ruling\", \"...   \n",
       "3  {\"product_specification\"=>[{\"key\"=>\"Ruling\", \"...   \n",
       "4  {\"product_specification\"=>[{\"key\"=>\"Pattern\", ...   \n",
       "5  {\"product_specification\"=>[{\"key\"=>\"Bubble Wra...   \n",
       "6  {\"product_specification\"=>[{\"key\"=>\"Pattern\", ...   \n",
       "7  {\"product_specification\"=>[{\"key\"=>\"Closure\", ...   \n",
       "8  {\"product_specification\"=>[{\"key\"=>\"Number of ...   \n",
       "9  {\"product_specification\"=>[{\"key\"=>\"Occasion\",...   \n",
       "\n",
       "                                         description  \n",
       "0  Key Features of Indcrown Net Embroidered Semi-...  \n",
       "1  Specifications of Shopmania Music Band A5 Note...  \n",
       "2  Specifications of Shopmania Music Band A5 Note...  \n",
       "3  Specifications of Tiara Diaries 2016-2017 Desi...  \n",
       "4  Specifications of KAJCI Embroidered Women's Wa...  \n",
       "5  Key Features of Packman 8 x 10 inches Security...  \n",
       "6  Specifications of Pick Pocket Embroidered Wome...  \n",
       "7  Angelfish Silk Potali Potli (Multicolor) Price...  \n",
       "8  Specifications of Oye Boy's Dungaree Top Detai...  \n",
       "9  Key Features of Nuride Canvas Shoes Material: ...  "
      ]
     },
     "execution_count": 3,
     "metadata": {},
     "output_type": "execute_result"
    }
   ],
   "source": [
    "ECom_Data.head(10) #First 10 records"
   ]
  },
  {
   "cell_type": "code",
   "execution_count": 4,
   "id": "5390d053",
   "metadata": {},
   "outputs": [
    {
     "data": {
      "text/html": [
       "<div>\n",
       "<style scoped>\n",
       "    .dataframe tbody tr th:only-of-type {\n",
       "        vertical-align: middle;\n",
       "    }\n",
       "\n",
       "    .dataframe tbody tr th {\n",
       "        vertical-align: top;\n",
       "    }\n",
       "\n",
       "    .dataframe thead th {\n",
       "        text-align: right;\n",
       "    }\n",
       "</style>\n",
       "<table border=\"1\" class=\"dataframe\">\n",
       "  <thead>\n",
       "    <tr style=\"text-align: right;\">\n",
       "      <th></th>\n",
       "      <th>Customer_uniq_id</th>\n",
       "      <th>Region</th>\n",
       "      <th>Order_Date</th>\n",
       "      <th>Expected_Delivery_Date</th>\n",
       "      <th>Delivered_Date</th>\n",
       "      <th>product_name</th>\n",
       "      <th>product_main_category</th>\n",
       "      <th>product_subcategory</th>\n",
       "      <th>product_category_filter</th>\n",
       "      <th>product_category_subfilter</th>\n",
       "      <th>product_unique ID</th>\n",
       "      <th>retail_price</th>\n",
       "      <th>discounted_price</th>\n",
       "      <th>product_rating</th>\n",
       "      <th>Brand</th>\n",
       "      <th>product_specifications</th>\n",
       "      <th>description</th>\n",
       "    </tr>\n",
       "  </thead>\n",
       "  <tbody>\n",
       "    <tr>\n",
       "      <th>8896</th>\n",
       "      <td>4db03bc4ccbe216cf151b2f2b904ba3f</td>\n",
       "      <td>East</td>\n",
       "      <td>01-12-2020</td>\n",
       "      <td>04-12-2020</td>\n",
       "      <td>04-12-2020</td>\n",
       "      <td>Luca Fashion Girls Heels</td>\n",
       "      <td>Footwear</td>\n",
       "      <td>Kids' &amp; Infant Footwear</td>\n",
       "      <td>For Girls</td>\n",
       "      <td>Sandals</td>\n",
       "      <td>SNDEHG3DNVBFGAT5</td>\n",
       "      <td>999</td>\n",
       "      <td>499</td>\n",
       "      <td>4.0</td>\n",
       "      <td>LUCA FASHION</td>\n",
       "      <td>{\"product_specification\"=&gt;[{\"key\"=&gt;\"Occasion\",...</td>\n",
       "      <td>Key Features of Luca Fashion Girls Heels Occas...</td>\n",
       "    </tr>\n",
       "    <tr>\n",
       "      <th>8897</th>\n",
       "      <td>4d4d6aeb13fa253499d0dd45a5abd87e</td>\n",
       "      <td>West</td>\n",
       "      <td>01-12-2020</td>\n",
       "      <td>04-12-2020</td>\n",
       "      <td>04-12-2020</td>\n",
       "      <td>Shoetopia Girls Sandals</td>\n",
       "      <td>Footwear</td>\n",
       "      <td>Kids' &amp; Infant Footwear</td>\n",
       "      <td>For Girls</td>\n",
       "      <td>Sandals</td>\n",
       "      <td>SNDEG7DRWSX8HFXZ</td>\n",
       "      <td>499</td>\n",
       "      <td>399</td>\n",
       "      <td>4.0</td>\n",
       "      <td>SHOETOPIA</td>\n",
       "      <td>{\"product_specification\"=&gt;[{\"key\"=&gt;\"Ideal For\"...</td>\n",
       "      <td>Key Features of Shoetopia Girls Sandals Flats ...</td>\n",
       "    </tr>\n",
       "    <tr>\n",
       "      <th>8898</th>\n",
       "      <td>ea19e7ef703293d3f6c799ca9db4642d</td>\n",
       "      <td>West</td>\n",
       "      <td>01-12-2020</td>\n",
       "      <td>04-12-2020</td>\n",
       "      <td>04-12-2020</td>\n",
       "      <td>SMART TRADERS Girls Sandals</td>\n",
       "      <td>Footwear</td>\n",
       "      <td>Kids' &amp; Infant Footwear</td>\n",
       "      <td>For Girls</td>\n",
       "      <td>Sandals</td>\n",
       "      <td>SNDEG7MZHHKZ58D2</td>\n",
       "      <td>999</td>\n",
       "      <td>499</td>\n",
       "      <td>5.0</td>\n",
       "      <td>SMART TRADERS</td>\n",
       "      <td>{\"product_specification\"=&gt;[{\"key\"=&gt;\"Ideal For\"...</td>\n",
       "      <td>Key Features of SMART TRADERS Girls Sandals Oc...</td>\n",
       "    </tr>\n",
       "    <tr>\n",
       "      <th>8899</th>\n",
       "      <td>19a53a958992fb575acffb5d41e7ef9e</td>\n",
       "      <td>East</td>\n",
       "      <td>01-12-2020</td>\n",
       "      <td>04-12-2020</td>\n",
       "      <td>04-12-2020</td>\n",
       "      <td>Beanz Girls Flats</td>\n",
       "      <td>Footwear</td>\n",
       "      <td>Kids' &amp; Infant Footwear</td>\n",
       "      <td>For Girls</td>\n",
       "      <td>Sandals</td>\n",
       "      <td>SNDEG7DYVFWHZBC4</td>\n",
       "      <td>1299</td>\n",
       "      <td>1299</td>\n",
       "      <td>3.0</td>\n",
       "      <td>BEANZ</td>\n",
       "      <td>{\"product_specification\"=&gt;[{\"key\"=&gt;\"Occasion\",...</td>\n",
       "      <td>Key Features of Beanz Girls Flats Occasion: Ca...</td>\n",
       "    </tr>\n",
       "    <tr>\n",
       "      <th>8900</th>\n",
       "      <td>09abab80c8dfdc6f268e0a6f05a0be11</td>\n",
       "      <td>North</td>\n",
       "      <td>01-12-2020</td>\n",
       "      <td>04-12-2020</td>\n",
       "      <td>04-12-2020</td>\n",
       "      <td>Nova KT 728S Electric Kettle</td>\n",
       "      <td>Home &amp; Kitchen</td>\n",
       "      <td>Kitchen Appliances</td>\n",
       "      <td>Electric Jug(heater)/Travel Kettles</td>\n",
       "      <td>Nova Electric Jug(heater)/Travel Kettles</td>\n",
       "      <td>EKTDG5C5QSADZZ8J</td>\n",
       "      <td>3195</td>\n",
       "      <td>699</td>\n",
       "      <td>3.6</td>\n",
       "      <td>NOVA</td>\n",
       "      <td>{\"product_specification\"=&gt;[{\"key\"=&gt;\"Brand\", \"v...</td>\n",
       "      <td>Specifications of Nova KT 728S Electric Kettle...</td>\n",
       "    </tr>\n",
       "    <tr>\n",
       "      <th>8901</th>\n",
       "      <td>90d30478255e23621e8929ed15c2f6e4</td>\n",
       "      <td>South</td>\n",
       "      <td>01-12-2020</td>\n",
       "      <td>04-12-2020</td>\n",
       "      <td>04-12-2020</td>\n",
       "      <td>Sinina Chanderi Embroidered Salwar Suit Dupatt...</td>\n",
       "      <td>Clothing</td>\n",
       "      <td>Women's Clothing</td>\n",
       "      <td>Ethnic Wear</td>\n",
       "      <td>Fabric</td>\n",
       "      <td>FABEGGHHDFMY8BZU</td>\n",
       "      <td>2980</td>\n",
       "      <td>1490</td>\n",
       "      <td>3.0</td>\n",
       "      <td>SININA</td>\n",
       "      <td>{\"product_specification\"=&gt;[{\"key\"=&gt;\"Fabric\", \"...</td>\n",
       "      <td>Key Features of Sinina Chanderi Embroidered Sa...</td>\n",
       "    </tr>\n",
       "    <tr>\n",
       "      <th>8902</th>\n",
       "      <td>20a73e3f41490a73ceeba5f17658db8f</td>\n",
       "      <td>West</td>\n",
       "      <td>01-12-2020</td>\n",
       "      <td>04-12-2020</td>\n",
       "      <td>04-12-2020</td>\n",
       "      <td>Aarushi Fashion Chanderi Embroidered Salwar Su...</td>\n",
       "      <td>Clothing</td>\n",
       "      <td>Women's Clothing</td>\n",
       "      <td>Ethnic Wear</td>\n",
       "      <td>Fabric</td>\n",
       "      <td>FABEG8GFDUWRSNU3</td>\n",
       "      <td>2600</td>\n",
       "      <td>1300</td>\n",
       "      <td>1.0</td>\n",
       "      <td>AARUSHI FASHION</td>\n",
       "      <td>{\"product_specification\"=&gt;[{\"key\"=&gt;\"Fabric\", \"...</td>\n",
       "      <td>Key Features of Aarushi Fashion Chanderi Embro...</td>\n",
       "    </tr>\n",
       "    <tr>\n",
       "      <th>8903</th>\n",
       "      <td>5c1554cd45f9d538c2c6947dbdd59c75</td>\n",
       "      <td>East</td>\n",
       "      <td>01-12-2020</td>\n",
       "      <td>04-12-2020</td>\n",
       "      <td>04-12-2020</td>\n",
       "      <td>Ambika Lahenga Embroidered Lehenga, Choli and ...</td>\n",
       "      <td>Clothing</td>\n",
       "      <td>Women's Clothing</td>\n",
       "      <td>Ethnic Wear</td>\n",
       "      <td>Lehenga Cholis</td>\n",
       "      <td>LEHEGGEHYN4G2RPW</td>\n",
       "      <td>39992</td>\n",
       "      <td>24995</td>\n",
       "      <td>1.0</td>\n",
       "      <td>AMBIKA LAHENGA</td>\n",
       "      <td>{\"product_specification\"=&gt;[{\"key\"=&gt;\"Fabric\", \"...</td>\n",
       "      <td>Key Features of Ambika Lahenga Embroidered Leh...</td>\n",
       "    </tr>\n",
       "    <tr>\n",
       "      <th>8904</th>\n",
       "      <td>6b737a4deca1ed0e56c179e66036e994</td>\n",
       "      <td>West</td>\n",
       "      <td>01-12-2020</td>\n",
       "      <td>04-12-2020</td>\n",
       "      <td>04-12-2020</td>\n",
       "      <td>Sinina Chanderi Embroidered Salwar Suit Dupatt...</td>\n",
       "      <td>Clothing</td>\n",
       "      <td>Women's Clothing</td>\n",
       "      <td>Ethnic Wear</td>\n",
       "      <td>Fabric</td>\n",
       "      <td>FABEGGHHGSVCHGFV</td>\n",
       "      <td>2000</td>\n",
       "      <td>1000</td>\n",
       "      <td>3.0</td>\n",
       "      <td>SININA</td>\n",
       "      <td>{\"product_specification\"=&gt;[{\"key\"=&gt;\"Fabric\", \"...</td>\n",
       "      <td>Key Features of Sinina Chanderi Embroidered Sa...</td>\n",
       "    </tr>\n",
       "    <tr>\n",
       "      <th>8905</th>\n",
       "      <td>a5235ac28d3d5487f54025f9d6b57433</td>\n",
       "      <td>North</td>\n",
       "      <td>01-12-2020</td>\n",
       "      <td>04-12-2020</td>\n",
       "      <td>04-12-2020</td>\n",
       "      <td>Aarushi Fashion Silk Striped Salwar Suit Dupat...</td>\n",
       "      <td>Clothing</td>\n",
       "      <td>Women's Clothing</td>\n",
       "      <td>Ethnic Wear</td>\n",
       "      <td>Fabric</td>\n",
       "      <td>FABEG8GYDAABECZH</td>\n",
       "      <td>2800</td>\n",
       "      <td>1350</td>\n",
       "      <td>4.0</td>\n",
       "      <td>AARUSHI FASHION</td>\n",
       "      <td>{\"product_specification\"=&gt;[{\"key\"=&gt;\"Fabric\", \"...</td>\n",
       "      <td>Key Features of Aarushi Fashion Silk Striped S...</td>\n",
       "    </tr>\n",
       "  </tbody>\n",
       "</table>\n",
       "</div>"
      ],
      "text/plain": [
       "                      Customer_uniq_id Region  Order_Date  \\\n",
       "8896  4db03bc4ccbe216cf151b2f2b904ba3f  East   01-12-2020   \n",
       "8897  4d4d6aeb13fa253499d0dd45a5abd87e   West  01-12-2020   \n",
       "8898  ea19e7ef703293d3f6c799ca9db4642d   West  01-12-2020   \n",
       "8899  19a53a958992fb575acffb5d41e7ef9e  East   01-12-2020   \n",
       "8900  09abab80c8dfdc6f268e0a6f05a0be11  North  01-12-2020   \n",
       "8901  90d30478255e23621e8929ed15c2f6e4  South  01-12-2020   \n",
       "8902  20a73e3f41490a73ceeba5f17658db8f   West  01-12-2020   \n",
       "8903  5c1554cd45f9d538c2c6947dbdd59c75  East   01-12-2020   \n",
       "8904  6b737a4deca1ed0e56c179e66036e994   West  01-12-2020   \n",
       "8905  a5235ac28d3d5487f54025f9d6b57433  North  01-12-2020   \n",
       "\n",
       "     Expected_Delivery_Date Delivered_Date  \\\n",
       "8896             04-12-2020     04-12-2020   \n",
       "8897             04-12-2020     04-12-2020   \n",
       "8898             04-12-2020     04-12-2020   \n",
       "8899             04-12-2020     04-12-2020   \n",
       "8900             04-12-2020     04-12-2020   \n",
       "8901             04-12-2020     04-12-2020   \n",
       "8902             04-12-2020     04-12-2020   \n",
       "8903             04-12-2020     04-12-2020   \n",
       "8904             04-12-2020     04-12-2020   \n",
       "8905             04-12-2020     04-12-2020   \n",
       "\n",
       "                                           product_name product_main_category  \\\n",
       "8896                           Luca Fashion Girls Heels             Footwear    \n",
       "8897                            Shoetopia Girls Sandals             Footwear    \n",
       "8898                        SMART TRADERS Girls Sandals             Footwear    \n",
       "8899                                  Beanz Girls Flats             Footwear    \n",
       "8900                       Nova KT 728S Electric Kettle       Home & Kitchen    \n",
       "8901  Sinina Chanderi Embroidered Salwar Suit Dupatt...             Clothing    \n",
       "8902  Aarushi Fashion Chanderi Embroidered Salwar Su...             Clothing    \n",
       "8903  Ambika Lahenga Embroidered Lehenga, Choli and ...             Clothing    \n",
       "8904  Sinina Chanderi Embroidered Salwar Suit Dupatt...             Clothing    \n",
       "8905  Aarushi Fashion Silk Striped Salwar Suit Dupat...             Clothing    \n",
       "\n",
       "            product_subcategory                product_category_filter  \\\n",
       "8896   Kids' & Infant Footwear                              For Girls    \n",
       "8897   Kids' & Infant Footwear                              For Girls    \n",
       "8898   Kids' & Infant Footwear                              For Girls    \n",
       "8899   Kids' & Infant Footwear                              For Girls    \n",
       "8900        Kitchen Appliances    Electric Jug(heater)/Travel Kettles    \n",
       "8901          Women's Clothing                            Ethnic Wear    \n",
       "8902          Women's Clothing                            Ethnic Wear    \n",
       "8903          Women's Clothing                            Ethnic Wear    \n",
       "8904          Women's Clothing                            Ethnic Wear    \n",
       "8905          Women's Clothing                            Ethnic Wear    \n",
       "\n",
       "                      product_category_subfilter product_unique ID  \\\n",
       "8896                                    Sandals   SNDEHG3DNVBFGAT5   \n",
       "8897                                    Sandals   SNDEG7DRWSX8HFXZ   \n",
       "8898                                    Sandals   SNDEG7MZHHKZ58D2   \n",
       "8899                                    Sandals   SNDEG7DYVFWHZBC4   \n",
       "8900   Nova Electric Jug(heater)/Travel Kettles   EKTDG5C5QSADZZ8J   \n",
       "8901                                     Fabric   FABEGGHHDFMY8BZU   \n",
       "8902                                     Fabric   FABEG8GFDUWRSNU3   \n",
       "8903                             Lehenga Cholis   LEHEGGEHYN4G2RPW   \n",
       "8904                                     Fabric   FABEGGHHGSVCHGFV   \n",
       "8905                                     Fabric   FABEG8GYDAABECZH   \n",
       "\n",
       "      retail_price  discounted_price  product_rating            Brand  \\\n",
       "8896           999               499             4.0     LUCA FASHION   \n",
       "8897           499               399             4.0        SHOETOPIA   \n",
       "8898           999               499             5.0    SMART TRADERS   \n",
       "8899          1299              1299             3.0            BEANZ   \n",
       "8900          3195               699             3.6             NOVA   \n",
       "8901          2980              1490             3.0           SININA   \n",
       "8902          2600              1300             1.0  AARUSHI FASHION   \n",
       "8903         39992             24995             1.0   AMBIKA LAHENGA   \n",
       "8904          2000              1000             3.0           SININA   \n",
       "8905          2800              1350             4.0  AARUSHI FASHION   \n",
       "\n",
       "                                 product_specifications  \\\n",
       "8896  {\"product_specification\"=>[{\"key\"=>\"Occasion\",...   \n",
       "8897  {\"product_specification\"=>[{\"key\"=>\"Ideal For\"...   \n",
       "8898  {\"product_specification\"=>[{\"key\"=>\"Ideal For\"...   \n",
       "8899  {\"product_specification\"=>[{\"key\"=>\"Occasion\",...   \n",
       "8900  {\"product_specification\"=>[{\"key\"=>\"Brand\", \"v...   \n",
       "8901  {\"product_specification\"=>[{\"key\"=>\"Fabric\", \"...   \n",
       "8902  {\"product_specification\"=>[{\"key\"=>\"Fabric\", \"...   \n",
       "8903  {\"product_specification\"=>[{\"key\"=>\"Fabric\", \"...   \n",
       "8904  {\"product_specification\"=>[{\"key\"=>\"Fabric\", \"...   \n",
       "8905  {\"product_specification\"=>[{\"key\"=>\"Fabric\", \"...   \n",
       "\n",
       "                                            description  \n",
       "8896  Key Features of Luca Fashion Girls Heels Occas...  \n",
       "8897  Key Features of Shoetopia Girls Sandals Flats ...  \n",
       "8898  Key Features of SMART TRADERS Girls Sandals Oc...  \n",
       "8899  Key Features of Beanz Girls Flats Occasion: Ca...  \n",
       "8900  Specifications of Nova KT 728S Electric Kettle...  \n",
       "8901  Key Features of Sinina Chanderi Embroidered Sa...  \n",
       "8902  Key Features of Aarushi Fashion Chanderi Embro...  \n",
       "8903  Key Features of Ambika Lahenga Embroidered Leh...  \n",
       "8904  Key Features of Sinina Chanderi Embroidered Sa...  \n",
       "8905  Key Features of Aarushi Fashion Silk Striped S...  "
      ]
     },
     "execution_count": 4,
     "metadata": {},
     "output_type": "execute_result"
    }
   ],
   "source": [
    "ECom_Data.tail(10) # Last 10 records"
   ]
  },
  {
   "cell_type": "markdown",
   "id": "48baeda6",
   "metadata": {},
   "source": [
    "#### Ans 1 b) A total of 8906 rows and 17 columns are present in the dataset. This can either be determined by using the shape property of a dataframe or by using the info() function which is used to get the information about the different data types present in the dataframe."
   ]
  },
  {
   "cell_type": "code",
   "execution_count": 5,
   "id": "0ac3ef5d",
   "metadata": {},
   "outputs": [
    {
     "data": {
      "text/plain": [
       "(8906, 17)"
      ]
     },
     "execution_count": 5,
     "metadata": {},
     "output_type": "execute_result"
    }
   ],
   "source": [
    "ECom_Data.shape #shape is a property of the DataFrame and it returns a tupple"
   ]
  },
  {
   "cell_type": "code",
   "execution_count": 6,
   "id": "1632f05c",
   "metadata": {},
   "outputs": [
    {
     "name": "stdout",
     "output_type": "stream",
     "text": [
      "<class 'pandas.core.frame.DataFrame'>\n",
      "RangeIndex: 8906 entries, 0 to 8905\n",
      "Data columns (total 17 columns):\n",
      " #   Column                      Non-Null Count  Dtype  \n",
      "---  ------                      --------------  -----  \n",
      " 0   Customer_uniq_id            8906 non-null   object \n",
      " 1   Region                      8906 non-null   object \n",
      " 2   Order_Date                  8906 non-null   object \n",
      " 3   Expected_Delivery_Date      8906 non-null   object \n",
      " 4   Delivered_Date              8906 non-null   object \n",
      " 5   product_name                8906 non-null   object \n",
      " 6   product_main_category       8906 non-null   object \n",
      " 7   product_subcategory         8906 non-null   object \n",
      " 8   product_category_filter     8906 non-null   object \n",
      " 9   product_category_subfilter  8906 non-null   object \n",
      " 10  product_unique ID           8906 non-null   object \n",
      " 11  retail_price                8906 non-null   int64  \n",
      " 12  discounted_price            8906 non-null   int64  \n",
      " 13  product_rating              8906 non-null   float64\n",
      " 14  Brand                       8906 non-null   object \n",
      " 15  product_specifications      8906 non-null   object \n",
      " 16  description                 8906 non-null   object \n",
      "dtypes: float64(1), int64(2), object(14)\n",
      "memory usage: 1.2+ MB\n"
     ]
    }
   ],
   "source": [
    "ECom_Data.info() #info is a function returning the various data types of the data columns in the dataset"
   ]
  },
  {
   "cell_type": "markdown",
   "id": "6aaa54a0",
   "metadata": {},
   "source": [
    "#### Ans  1 c) It can be observed from the info() function applied above that a total of 14 object data types are present in our dataset."
   ]
  },
  {
   "cell_type": "markdown",
   "id": "5e63573c",
   "metadata": {},
   "source": [
    "#### Ans 1 d) It can be seen from the info() function applied above that there is no Boolean data type present in the dataset."
   ]
  },
  {
   "cell_type": "markdown",
   "id": "cc5d76f1",
   "metadata": {},
   "source": [
    "<font color='blue'>\n",
    "    <font size = 5>\n",
    " Once you are familiar with the data, you may decide that not all features are of use to you and you may want to delete the non-informative features (columns)</font>"
   ]
  },
  {
   "cell_type": "markdown",
   "id": "90db65ce",
   "metadata": {},
   "source": [
    "## Q 2.\tEliminating the non-informative columns.\n",
    "## a)\tDrop the columns product_specifications and description. (2 marks) \n",
    "## b)\tWhich method or function is used to permanently delete the columns mentioned in part (a)? Write the code explicitly (2 marks)\n",
    "### Note: Use the markdown feature of Python to explain your answer.\n"
   ]
  },
  {
   "cell_type": "markdown",
   "id": "e0e7e762",
   "metadata": {},
   "source": [
    "### Ans 2 a) The drop() function is used to remove any number of columns or rows that are not required in the dataset. The respective row/column names along with their respective axes need to be defined in the function. The following column names passed as attributes in the drop() function will be removed from the dataset:"
   ]
  },
  {
   "cell_type": "code",
   "execution_count": 7,
   "id": "35ad0821",
   "metadata": {},
   "outputs": [
    {
     "data": {
      "text/html": [
       "<div>\n",
       "<style scoped>\n",
       "    .dataframe tbody tr th:only-of-type {\n",
       "        vertical-align: middle;\n",
       "    }\n",
       "\n",
       "    .dataframe tbody tr th {\n",
       "        vertical-align: top;\n",
       "    }\n",
       "\n",
       "    .dataframe thead th {\n",
       "        text-align: right;\n",
       "    }\n",
       "</style>\n",
       "<table border=\"1\" class=\"dataframe\">\n",
       "  <thead>\n",
       "    <tr style=\"text-align: right;\">\n",
       "      <th></th>\n",
       "      <th>Customer_uniq_id</th>\n",
       "      <th>Region</th>\n",
       "      <th>Order_Date</th>\n",
       "      <th>Expected_Delivery_Date</th>\n",
       "      <th>Delivered_Date</th>\n",
       "      <th>product_name</th>\n",
       "      <th>product_main_category</th>\n",
       "      <th>product_subcategory</th>\n",
       "      <th>product_category_filter</th>\n",
       "      <th>product_category_subfilter</th>\n",
       "      <th>product_unique ID</th>\n",
       "      <th>retail_price</th>\n",
       "      <th>discounted_price</th>\n",
       "      <th>product_rating</th>\n",
       "      <th>Brand</th>\n",
       "    </tr>\n",
       "  </thead>\n",
       "  <tbody>\n",
       "    <tr>\n",
       "      <th>0</th>\n",
       "      <td>e71017e224688489edfe856f2308806d</td>\n",
       "      <td>East</td>\n",
       "      <td>24-10-2021</td>\n",
       "      <td>25-10-2021</td>\n",
       "      <td>25-10-2021</td>\n",
       "      <td>Indcrown Net Embroidered Semi-stitched Lehenga...</td>\n",
       "      <td>Clothing</td>\n",
       "      <td>Women's Clothing</td>\n",
       "      <td>Ethnic Wear</td>\n",
       "      <td>Fabric</td>\n",
       "      <td>FABEJX2NHNKCYHKA</td>\n",
       "      <td>999</td>\n",
       "      <td>699</td>\n",
       "      <td>4.0</td>\n",
       "      <td>INDCROWN</td>\n",
       "    </tr>\n",
       "    <tr>\n",
       "      <th>1</th>\n",
       "      <td>6286847ee2da18f587503db49511c539</td>\n",
       "      <td>East</td>\n",
       "      <td>24-10-2021</td>\n",
       "      <td>25-10-2021</td>\n",
       "      <td>25-10-2021</td>\n",
       "      <td>Shopmania Music Band A5 Notebook Spiral Bound</td>\n",
       "      <td>Pens &amp; Stationery</td>\n",
       "      <td>Diaries &amp; Notebooks</td>\n",
       "      <td>Notebooks</td>\n",
       "      <td>Designer</td>\n",
       "      <td>DIAEJ6Z8BEDTGGYY</td>\n",
       "      <td>499</td>\n",
       "      <td>275</td>\n",
       "      <td>1.0</td>\n",
       "      <td>SHOPMANIA</td>\n",
       "    </tr>\n",
       "    <tr>\n",
       "      <th>2</th>\n",
       "      <td>0686fec9b70e5039583a38119ca0c835</td>\n",
       "      <td>West</td>\n",
       "      <td>24-10-2021</td>\n",
       "      <td>25-10-2021</td>\n",
       "      <td>25-10-2021</td>\n",
       "      <td>Shopmania Music Band A5 Notebook Spiral Bound</td>\n",
       "      <td>Pens &amp; Stationery</td>\n",
       "      <td>Diaries &amp; Notebooks</td>\n",
       "      <td>Notebooks</td>\n",
       "      <td>Designer</td>\n",
       "      <td>DIAEJ6Z8KQFWDEGH</td>\n",
       "      <td>499</td>\n",
       "      <td>275</td>\n",
       "      <td>2.0</td>\n",
       "      <td>SHOPMANIA</td>\n",
       "    </tr>\n",
       "    <tr>\n",
       "      <th>3</th>\n",
       "      <td>ea2406dc597bee2abb6b867fa668501f</td>\n",
       "      <td>West</td>\n",
       "      <td>24-10-2021</td>\n",
       "      <td>25-10-2021</td>\n",
       "      <td>25-10-2021</td>\n",
       "      <td>Tiara Diaries 2016-2017 Designer LA Kaarta \"TA...</td>\n",
       "      <td>Pens &amp; Stationery</td>\n",
       "      <td>Diaries &amp; Notebooks</td>\n",
       "      <td>Notebooks</td>\n",
       "      <td>Designer</td>\n",
       "      <td>DIAEJ8FGHZ3K86JU</td>\n",
       "      <td>1000</td>\n",
       "      <td>837</td>\n",
       "      <td>3.0</td>\n",
       "      <td>TIARA DIARIES</td>\n",
       "    </tr>\n",
       "    <tr>\n",
       "      <th>4</th>\n",
       "      <td>5935ed077915347dc695744df68c565c</td>\n",
       "      <td>East</td>\n",
       "      <td>03-09-2021</td>\n",
       "      <td>04-09-2021</td>\n",
       "      <td>04-09-2021</td>\n",
       "      <td>KAJCI Embroidered Women's Waistcoat</td>\n",
       "      <td>Clothing</td>\n",
       "      <td>Women's Clothing</td>\n",
       "      <td>Formal Wear</td>\n",
       "      <td>Waistcoats</td>\n",
       "      <td>WSCEG2FYDYFDSVZ6</td>\n",
       "      <td>1200</td>\n",
       "      <td>699</td>\n",
       "      <td>5.0</td>\n",
       "      <td>KAJCI</td>\n",
       "    </tr>\n",
       "    <tr>\n",
       "      <th>...</th>\n",
       "      <td>...</td>\n",
       "      <td>...</td>\n",
       "      <td>...</td>\n",
       "      <td>...</td>\n",
       "      <td>...</td>\n",
       "      <td>...</td>\n",
       "      <td>...</td>\n",
       "      <td>...</td>\n",
       "      <td>...</td>\n",
       "      <td>...</td>\n",
       "      <td>...</td>\n",
       "      <td>...</td>\n",
       "      <td>...</td>\n",
       "      <td>...</td>\n",
       "      <td>...</td>\n",
       "    </tr>\n",
       "    <tr>\n",
       "      <th>8901</th>\n",
       "      <td>90d30478255e23621e8929ed15c2f6e4</td>\n",
       "      <td>South</td>\n",
       "      <td>01-12-2020</td>\n",
       "      <td>04-12-2020</td>\n",
       "      <td>04-12-2020</td>\n",
       "      <td>Sinina Chanderi Embroidered Salwar Suit Dupatt...</td>\n",
       "      <td>Clothing</td>\n",
       "      <td>Women's Clothing</td>\n",
       "      <td>Ethnic Wear</td>\n",
       "      <td>Fabric</td>\n",
       "      <td>FABEGGHHDFMY8BZU</td>\n",
       "      <td>2980</td>\n",
       "      <td>1490</td>\n",
       "      <td>3.0</td>\n",
       "      <td>SININA</td>\n",
       "    </tr>\n",
       "    <tr>\n",
       "      <th>8902</th>\n",
       "      <td>20a73e3f41490a73ceeba5f17658db8f</td>\n",
       "      <td>West</td>\n",
       "      <td>01-12-2020</td>\n",
       "      <td>04-12-2020</td>\n",
       "      <td>04-12-2020</td>\n",
       "      <td>Aarushi Fashion Chanderi Embroidered Salwar Su...</td>\n",
       "      <td>Clothing</td>\n",
       "      <td>Women's Clothing</td>\n",
       "      <td>Ethnic Wear</td>\n",
       "      <td>Fabric</td>\n",
       "      <td>FABEG8GFDUWRSNU3</td>\n",
       "      <td>2600</td>\n",
       "      <td>1300</td>\n",
       "      <td>1.0</td>\n",
       "      <td>AARUSHI FASHION</td>\n",
       "    </tr>\n",
       "    <tr>\n",
       "      <th>8903</th>\n",
       "      <td>5c1554cd45f9d538c2c6947dbdd59c75</td>\n",
       "      <td>East</td>\n",
       "      <td>01-12-2020</td>\n",
       "      <td>04-12-2020</td>\n",
       "      <td>04-12-2020</td>\n",
       "      <td>Ambika Lahenga Embroidered Lehenga, Choli and ...</td>\n",
       "      <td>Clothing</td>\n",
       "      <td>Women's Clothing</td>\n",
       "      <td>Ethnic Wear</td>\n",
       "      <td>Lehenga Cholis</td>\n",
       "      <td>LEHEGGEHYN4G2RPW</td>\n",
       "      <td>39992</td>\n",
       "      <td>24995</td>\n",
       "      <td>1.0</td>\n",
       "      <td>AMBIKA LAHENGA</td>\n",
       "    </tr>\n",
       "    <tr>\n",
       "      <th>8904</th>\n",
       "      <td>6b737a4deca1ed0e56c179e66036e994</td>\n",
       "      <td>West</td>\n",
       "      <td>01-12-2020</td>\n",
       "      <td>04-12-2020</td>\n",
       "      <td>04-12-2020</td>\n",
       "      <td>Sinina Chanderi Embroidered Salwar Suit Dupatt...</td>\n",
       "      <td>Clothing</td>\n",
       "      <td>Women's Clothing</td>\n",
       "      <td>Ethnic Wear</td>\n",
       "      <td>Fabric</td>\n",
       "      <td>FABEGGHHGSVCHGFV</td>\n",
       "      <td>2000</td>\n",
       "      <td>1000</td>\n",
       "      <td>3.0</td>\n",
       "      <td>SININA</td>\n",
       "    </tr>\n",
       "    <tr>\n",
       "      <th>8905</th>\n",
       "      <td>a5235ac28d3d5487f54025f9d6b57433</td>\n",
       "      <td>North</td>\n",
       "      <td>01-12-2020</td>\n",
       "      <td>04-12-2020</td>\n",
       "      <td>04-12-2020</td>\n",
       "      <td>Aarushi Fashion Silk Striped Salwar Suit Dupat...</td>\n",
       "      <td>Clothing</td>\n",
       "      <td>Women's Clothing</td>\n",
       "      <td>Ethnic Wear</td>\n",
       "      <td>Fabric</td>\n",
       "      <td>FABEG8GYDAABECZH</td>\n",
       "      <td>2800</td>\n",
       "      <td>1350</td>\n",
       "      <td>4.0</td>\n",
       "      <td>AARUSHI FASHION</td>\n",
       "    </tr>\n",
       "  </tbody>\n",
       "</table>\n",
       "<p>8906 rows × 15 columns</p>\n",
       "</div>"
      ],
      "text/plain": [
       "                      Customer_uniq_id Region  Order_Date  \\\n",
       "0     e71017e224688489edfe856f2308806d  East   24-10-2021   \n",
       "1     6286847ee2da18f587503db49511c539  East   24-10-2021   \n",
       "2     0686fec9b70e5039583a38119ca0c835   West  24-10-2021   \n",
       "3     ea2406dc597bee2abb6b867fa668501f   West  24-10-2021   \n",
       "4     5935ed077915347dc695744df68c565c  East   03-09-2021   \n",
       "...                                ...    ...         ...   \n",
       "8901  90d30478255e23621e8929ed15c2f6e4  South  01-12-2020   \n",
       "8902  20a73e3f41490a73ceeba5f17658db8f   West  01-12-2020   \n",
       "8903  5c1554cd45f9d538c2c6947dbdd59c75  East   01-12-2020   \n",
       "8904  6b737a4deca1ed0e56c179e66036e994   West  01-12-2020   \n",
       "8905  a5235ac28d3d5487f54025f9d6b57433  North  01-12-2020   \n",
       "\n",
       "     Expected_Delivery_Date Delivered_Date  \\\n",
       "0                25-10-2021     25-10-2021   \n",
       "1                25-10-2021     25-10-2021   \n",
       "2                25-10-2021     25-10-2021   \n",
       "3                25-10-2021     25-10-2021   \n",
       "4                04-09-2021     04-09-2021   \n",
       "...                     ...            ...   \n",
       "8901             04-12-2020     04-12-2020   \n",
       "8902             04-12-2020     04-12-2020   \n",
       "8903             04-12-2020     04-12-2020   \n",
       "8904             04-12-2020     04-12-2020   \n",
       "8905             04-12-2020     04-12-2020   \n",
       "\n",
       "                                           product_name product_main_category  \\\n",
       "0     Indcrown Net Embroidered Semi-stitched Lehenga...             Clothing    \n",
       "1         Shopmania Music Band A5 Notebook Spiral Bound    Pens & Stationery    \n",
       "2         Shopmania Music Band A5 Notebook Spiral Bound    Pens & Stationery    \n",
       "3     Tiara Diaries 2016-2017 Designer LA Kaarta \"TA...    Pens & Stationery    \n",
       "4                   KAJCI Embroidered Women's Waistcoat             Clothing    \n",
       "...                                                 ...                   ...   \n",
       "8901  Sinina Chanderi Embroidered Salwar Suit Dupatt...             Clothing    \n",
       "8902  Aarushi Fashion Chanderi Embroidered Salwar Su...             Clothing    \n",
       "8903  Ambika Lahenga Embroidered Lehenga, Choli and ...             Clothing    \n",
       "8904  Sinina Chanderi Embroidered Salwar Suit Dupatt...             Clothing    \n",
       "8905  Aarushi Fashion Silk Striped Salwar Suit Dupat...             Clothing    \n",
       "\n",
       "        product_subcategory product_category_filter  \\\n",
       "0         Women's Clothing             Ethnic Wear    \n",
       "1      Diaries & Notebooks               Notebooks    \n",
       "2      Diaries & Notebooks               Notebooks    \n",
       "3      Diaries & Notebooks               Notebooks    \n",
       "4         Women's Clothing             Formal Wear    \n",
       "...                     ...                     ...   \n",
       "8901      Women's Clothing             Ethnic Wear    \n",
       "8902      Women's Clothing             Ethnic Wear    \n",
       "8903      Women's Clothing             Ethnic Wear    \n",
       "8904      Women's Clothing             Ethnic Wear    \n",
       "8905      Women's Clothing             Ethnic Wear    \n",
       "\n",
       "     product_category_subfilter product_unique ID  retail_price  \\\n",
       "0                       Fabric   FABEJX2NHNKCYHKA           999   \n",
       "1                     Designer   DIAEJ6Z8BEDTGGYY           499   \n",
       "2                     Designer   DIAEJ6Z8KQFWDEGH           499   \n",
       "3                     Designer   DIAEJ8FGHZ3K86JU          1000   \n",
       "4                   Waistcoats   WSCEG2FYDYFDSVZ6          1200   \n",
       "...                         ...               ...           ...   \n",
       "8901                    Fabric   FABEGGHHDFMY8BZU          2980   \n",
       "8902                    Fabric   FABEG8GFDUWRSNU3          2600   \n",
       "8903            Lehenga Cholis   LEHEGGEHYN4G2RPW         39992   \n",
       "8904                    Fabric   FABEGGHHGSVCHGFV          2000   \n",
       "8905                    Fabric   FABEG8GYDAABECZH          2800   \n",
       "\n",
       "      discounted_price  product_rating            Brand  \n",
       "0                  699             4.0         INDCROWN  \n",
       "1                  275             1.0        SHOPMANIA  \n",
       "2                  275             2.0        SHOPMANIA  \n",
       "3                  837             3.0    TIARA DIARIES  \n",
       "4                  699             5.0            KAJCI  \n",
       "...                ...             ...              ...  \n",
       "8901              1490             3.0           SININA  \n",
       "8902              1300             1.0  AARUSHI FASHION  \n",
       "8903             24995             1.0   AMBIKA LAHENGA  \n",
       "8904              1000             3.0           SININA  \n",
       "8905              1350             4.0  AARUSHI FASHION  \n",
       "\n",
       "[8906 rows x 15 columns]"
      ]
     },
     "execution_count": 7,
     "metadata": {},
     "output_type": "execute_result"
    }
   ],
   "source": [
    "ECom_Data.drop(['product_specifications','description'],axis=1)"
   ]
  },
  {
   "cell_type": "markdown",
   "id": "e6159f6a",
   "metadata": {},
   "source": [
    "### Ans 2 b)  a) The drop() function by default only temporarily deletes the rows or columns in any dataset. In order to delete the respective rows/columns permanently, the inplace attribute is used and when set to 'True', it deletes the data permanently."
   ]
  },
  {
   "cell_type": "code",
   "execution_count": 8,
   "id": "47a63265",
   "metadata": {},
   "outputs": [],
   "source": [
    "ECom_Data.drop(['product_specifications','description'],axis=1,inplace=True)"
   ]
  },
  {
   "cell_type": "markdown",
   "id": "cde421e0",
   "metadata": {},
   "source": [
    "<font color='blue'>\n",
    "    <font size = 5>\n",
    "        The next steps in this project involves summarization of data at various levels and visualization. Apparently, such simple steps are very useful to get an overall sense of the data.\n",
    "    </font>"
   ]
  },
  {
   "cell_type": "markdown",
   "id": "41c30ad7",
   "metadata": {},
   "source": [
    "## Q 3. Here we summarize the data at Brand level.\n",
    "## a) How many unique Brand are there? (2 marks)\n",
    "## b) Note that each Brand contains multiple products. Show the average product_rating within each Brand (2 marks)"
   ]
  },
  {
   "cell_type": "markdown",
   "id": "beb3f83f",
   "metadata": {},
   "source": [
    "### Ans 3 a) We can use the describe() function in order to know the NUMBER of unique Brand values present in the dataset while the function unique() can be used to return the unique Brand names. The size property of an array can also be used along with the unique() function to return the number of unique brands in the dataset. It can be observed that there are a total of 2484 unique Brand values."
   ]
  },
  {
   "cell_type": "code",
   "execution_count": 28,
   "id": "41dcb79f",
   "metadata": {},
   "outputs": [
    {
     "data": {
      "text/plain": [
       "count            8906\n",
       "unique           2484\n",
       "top       ALLURE AUTO\n",
       "freq              469\n",
       "Name: Brand, dtype: object"
      ]
     },
     "execution_count": 28,
     "metadata": {},
     "output_type": "execute_result"
    }
   ],
   "source": [
    "# describe()\n",
    "ECom_Data['Brand'].describe()"
   ]
  },
  {
   "cell_type": "code",
   "execution_count": 29,
   "id": "2ec27c14",
   "metadata": {},
   "outputs": [
    {
     "data": {
      "text/plain": [
       "2484"
      ]
     },
     "execution_count": 29,
     "metadata": {},
     "output_type": "execute_result"
    }
   ],
   "source": [
    "#unique()\n",
    "ECom_Data['Brand'].unique().size"
   ]
  },
  {
   "cell_type": "markdown",
   "id": "5083d866",
   "metadata": {},
   "source": [
    "### Ans 3 b) The groupby() function along with the aggregate function mean() can be used in order to determine the average product rating within each Brand in the given dataset."
   ]
  },
  {
   "cell_type": "code",
   "execution_count": 11,
   "id": "10018c2c",
   "metadata": {},
   "outputs": [
    {
     "data": {
      "text/plain": [
       "Brand\n",
       "1OAK           1.500000\n",
       "3A AUTOCARE    3.268293\n",
       "3D MAT         3.000000\n",
       "3KFACTORY      2.000000\n",
       "4D             3.600000\n",
       "                 ...   \n",
       "ZORDEN         4.000000\n",
       "ZOSIGN         3.400000\n",
       "ZRESTHA        1.000000\n",
       "ZYXEL          3.333333\n",
       " TARKAN        5.000000\n",
       "Name: product_rating, Length: 2484, dtype: float64"
      ]
     },
     "execution_count": 11,
     "metadata": {},
     "output_type": "execute_result"
    }
   ],
   "source": [
    "ECom_Data.groupby('Brand')['product_rating'].mean()"
   ]
  },
  {
   "cell_type": "markdown",
   "id": "bbf162af",
   "metadata": {},
   "source": [
    "## Q 4. Next we study the main categories of the products.\n",
    "\n",
    "## a) Create an appropriate plot to show the count of items ordered for each product_main_category. (6 marks).\n",
    "\n",
    "### Hint: Create a bar chart titled \"Product Category type\" where product_main_category are on x-axis and counts are on y-axis.\n",
    "\n",
    "### Note: Both axis labels, i.e. the names of the product_main_category and counts must be clearly legible. \n",
    "\n",
    "## b) From the plot identify for which two product_main_category(s)  maximum and minimum orders were placed. (2 marks)\n",
    "\n",
    "## c) Write code to print out the top 5 product_main_category(s)  in descending order? (3 marks"
   ]
  },
  {
   "cell_type": "markdown",
   "id": "77a558b3",
   "metadata": {},
   "source": [
    "### Ans 4 a) A countplot can be used here to visualize the number of occurences of the different product categories."
   ]
  },
  {
   "cell_type": "code",
   "execution_count": 85,
   "id": "17da7bf4",
   "metadata": {},
   "outputs": [
    {
     "data": {
      "image/png": "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\n",
      "text/plain": [
       "<Figure size 1600x700 with 1 Axes>"
      ]
     },
     "metadata": {},
     "output_type": "display_data"
    }
   ],
   "source": [
    "plt.figure(figsize=(16,7))\n",
    "plt.xlim(0,3000)\n",
    "plt.xticks(rotation=60)\n",
    "plt.title('Product Category Type\\n')\n",
    "sns.countplot(data=ECom_Data,x='product_main_category',order=ECom_Data['product_main_category'].value_counts(ascending=False).index);\n",
    "plt.xlabel('Product Categories');\n",
    "plt.ylabel('Number of Products');"
   ]
  },
  {
   "cell_type": "markdown",
   "id": "13a5b355",
   "metadata": {},
   "source": [
    "### Ans 4 b)  It can be observed from the visualization that the Clothing items accounted for the highest count of product categories to be ordered from while the Wearable Smart Devices category accounted for the lowest count of product categories to be ordered from."
   ]
  },
  {
   "cell_type": "markdown",
   "id": "4ea60c92",
   "metadata": {},
   "source": [
    "### Ans 4 c) The value_counts() function can be used here to determine the top categories for the highest products to be ordered."
   ]
  },
  {
   "cell_type": "code",
   "execution_count": 86,
   "id": "7f704116",
   "metadata": {},
   "outputs": [
    {
     "data": {
      "text/plain": [
       "Clothing                       2943\n",
       "Mobiles & Accessories          1084\n",
       "Automotive                     1001\n",
       "Home Decor & Festive Needs      727\n",
       "Computers                       558\n",
       "Name: product_main_category, dtype: int64"
      ]
     },
     "execution_count": 86,
     "metadata": {},
     "output_type": "execute_result"
    }
   ],
   "source": [
    "ECom_Data['product_main_category'].value_counts(ascending=False).head(5)"
   ]
  },
  {
   "cell_type": "markdown",
   "id": "a9f81605",
   "metadata": {},
   "source": [
    "<font color='blue'>\n",
    "    <font size = 5>\n",
    "    In E-commerce, both the retailers (here brands) and the company have to make profit to sustain in the business. \n",
    "    The E-Commerce company has the following rule for computing their own revenue: </font> \n",
    "    \n",
    "####     The company charges  \n",
    "####  (i) 25% on the orders having final price (discounted price) greater than 600\n",
    "\n",
    "#### (ii) 15% on the orders having final price (discounted price) greater than 350 but less than or equal to 600\n",
    "\n",
    "#### (iii) 10% on the orders having final price (discounted price) greater than 100 but less than or equal to 350\n",
    "\n",
    "#### (iv) Otherwise, 5% on the final price (discounted price)    </font> "
   ]
  },
  {
   "cell_type": "markdown",
   "id": "0f255fea",
   "metadata": {},
   "source": [
    "## Q 5. Find the Total Revenue generated by the E-Commerce company over all orders placed. (6 marks)\n",
    "\n",
    "#### Hint: Calculate revenue of E-commerce company using the conditions mentioned above and then do the total (sum) of all to get total Revenue. "
   ]
  },
  {
   "cell_type": "markdown",
   "id": "1f6b8028",
   "metadata": {},
   "source": [
    "### Ans 5 The E-Commerce company revenue is to be calculated as per the given conditions. Thus a function can be created based on the above conditions and applied to the Discounted Prices column of the dataset to provide us with the respective company revenue values. These calculated values can be stored in a new column namely Company_Revenue in the original dataframe. The sum of these values would provide us with the Total Revenue that has been generated by the company."
   ]
  },
  {
   "cell_type": "code",
   "execution_count": 124,
   "id": "e52174d5",
   "metadata": {},
   "outputs": [],
   "source": [
    "#Creating a function to calculate the respective Company Revenue\n",
    "\n",
    "def RevCalc(a):\n",
    "    if a>600:\n",
    "        return a*0.25\n",
    "    elif (a<=600 and a>350):\n",
    "        return a*0.15    \n",
    "    elif  a<=350 and a>100:\n",
    "        return a*0.10\n",
    "    else:\n",
    "        return a*0.05\n",
    "\n",
    "#Applying the function to the discounted prices column\n",
    "\n",
    "ECom_Data['Company_Revenue'] = ECom_Data['discounted_price'].apply(RevCalc)"
   ]
  },
  {
   "cell_type": "code",
   "execution_count": 126,
   "id": "472366a3",
   "metadata": {},
   "outputs": [
    {
     "data": {
      "text/plain": [
       "2217486.85"
      ]
     },
     "execution_count": 126,
     "metadata": {},
     "output_type": "execute_result"
    }
   ],
   "source": [
    "#Total Revenue generated by the E-Commerce company\n",
    "ECom_Data['Company_Revenue'].sum()"
   ]
  },
  {
   "cell_type": "markdown",
   "id": "b4f947a8",
   "metadata": {},
   "source": [
    "### The total revenue generated by the E-Commerce Company is of 2,217,486/- units."
   ]
  },
  {
   "cell_type": "markdown",
   "id": "9161ca8c",
   "metadata": {},
   "source": [
    "<font color='blue'>\n",
    "    <font size = 5>\n",
    "    Now you need to find the revenue for each retailer (Brand)\n",
    "    </font>"
   ]
  },
  {
   "cell_type": "markdown",
   "id": "73dd23c3",
   "metadata": {},
   "source": [
    "## Q6.Calculate the total BrandRevenue and list the top 10 Brand having maximum revenue in descending order (6 marks)\n",
    "#### Hint: Total BrandRevenue is BrandRevenue which is generated after all the deductions. Also, BrandRevenue is different from the E-Commerce company's revenue.\n",
    "#### Brand Revenue is the discounted price minus the Revenue (generated using the conditions given above Q5)\n"
   ]
  },
  {
   "cell_type": "markdown",
   "id": "3514fa79",
   "metadata": {},
   "source": [
    "### Ans 6 The Brand Revenue can be calculated by subtracting the Company Revenue from the Discounted Price of the items. We can create a new column (BrandRevenue) to store these calculated values."
   ]
  },
  {
   "cell_type": "code",
   "execution_count": 135,
   "id": "437c69b5",
   "metadata": {},
   "outputs": [
    {
     "data": {
      "text/plain": [
       "7522992.15"
      ]
     },
     "execution_count": 135,
     "metadata": {},
     "output_type": "execute_result"
    }
   ],
   "source": [
    "ECom_Data['Brand_Revenue'] = ECom_Data['discounted_price'] - ECom_Data['Company_Revenue']\n",
    "ECom_Data['Brand_Revenue'].sum()"
   ]
  },
  {
   "cell_type": "markdown",
   "id": "888145e4",
   "metadata": {},
   "source": [
    "### The total Brand Revenue generated by the E-Commerce Company is of 7,522,992/- units. Below mentioned are the top 10 brands having the maximum revenue:"
   ]
  },
  {
   "cell_type": "code",
   "execution_count": 137,
   "id": "56c3f8c1",
   "metadata": {},
   "outputs": [
    {
     "data": {
      "text/plain": [
       "Brand\n",
       "ALLURE AUTO     498464.25\n",
       "GAGA            237390.00\n",
       "SLIM            212062.60\n",
       "DAILYOBJECTS    181980.00\n",
       "DIVINITI        143115.00\n",
       "THELOSTPUPPY    127287.50\n",
       "REGULAR         126536.50\n",
       "ENTHOPIA        123146.25\n",
       "ASUS             99241.50\n",
       "SPRINGWEL        88978.50\n",
       "Name: Brand_Revenue, dtype: float64"
      ]
     },
     "execution_count": 137,
     "metadata": {},
     "output_type": "execute_result"
    }
   ],
   "source": [
    "ECom_Data.groupby('Brand')['Brand_Revenue'].sum().sort_values(ascending=False).head(10)"
   ]
  },
  {
   "cell_type": "markdown",
   "id": "2a2bbd83",
   "metadata": {},
   "source": [
    "<font color='blue'>\n",
    "    <font size = 5>\n",
    "Let us now investigate multiple features for each product to determine any pattern.\n",
    "</font>"
   ]
  },
  {
   "cell_type": "markdown",
   "id": "1aa1834b",
   "metadata": {},
   "source": [
    "## Q 7. Compare prices for each product.\n",
    "\n",
    "## a)\tDraw boxplots of retail_price & discounted_price. (3 marks)\n",
    "\n",
    "## b)\t Are there any outliers? (Yes/No) (1mark)\n",
    "\n",
    "## c)\tCreate a scatterplot of retail_price (x-axis) and discounted_price (y-axis) (3 marks)\n"
   ]
  },
  {
   "cell_type": "markdown",
   "id": "d5aae861",
   "metadata": {},
   "source": [
    "### Ans 7 a) Box plots are usually used for visual representation and analysis of a categorical and a continuous variable. Following are the different boxplots for the respective prices:"
   ]
  },
  {
   "cell_type": "code",
   "execution_count": 173,
   "id": "510fd4d0",
   "metadata": {},
   "outputs": [
    {
     "data": {
      "image/png": "iVBORw0KGgoAAAANSUhEUgAABF4AAAElCAYAAADdmSZaAAAAOXRFWHRTb2Z0d2FyZQBNYXRwbG90bGliIHZlcnNpb24zLjcuMCwgaHR0cHM6Ly9tYXRwbG90bGliLm9yZy88F64QAAAACXBIWXMAAA9hAAAPYQGoP6dpAAAzD0lEQVR4nO3deVRV9f7/8ddhOgzCkURExBGtTDRJy7IScCjHW1pWJqR1GzRxyHvNykobrjbcyizRSi8utcz8Rn7LJofS8kqaIaVZWStNSxwyRNJAhs/vj37sLwcOyrQD9PlY66w4e7/3Z3/253w8q/Nae3AYY4wAAAAAAABQ67zqugMAAAAAAABnKoIXAAAAAAAAmxC8AAAAAAAA2ITgBQAAAAAAwCYELwAAAAAAADYheAEAAAAAALAJwQsAAAAAAIBNCF4AAAAAAABsQvACAAAAAABgE4IXAAAqsGjRIjkcDrdX06ZNFR8fr1WrVv3l/Vm/fr1bX7y9vdWsWTMNHz5c33zzjVW3Z88eORwOLVq0qMr72Llzp2bMmKE9e/ZUepvly5erU6dOCggIkMPhUGZmZpX3W1mexqBp06YaMmSItm7dWq029+/frxkzZtSo3yX9Wr9+vbVsxowZcjgcp922pK7k5efnp7Zt22rixIk6evRopfYfHx+v+Pj46nUeAADYyqeuOwAAQH2Xmpqq888/X8YYHThwQC+++KKGDBmit99+W0OGDPnL+zNz5kwlJCTo5MmT2rp1qx599FGtW7dO27dvV4sWLWrU9s6dO/XII48oPj5ebdq0OW394cOHlZSUpP79+yslJUVOp1PnnntujfpQGSVjUFBQoG3btumRRx5RXFycMjMz1aFDhyq1tX//fj3yyCNq06aNunbtWq3+XHTRRUpPT9cFF1xQre0l6YMPPpDL5VJubq7ee+89Pf/889qyZYs2bdp02gAnJSWl2vsFAAD2IngBAOA0YmJi1L17d+t9//79FRoaqmXLltVJ8NKhQwddeumlkqRevXqpcePG+vvf/65FixZp2rRpf2lfdu3apYKCAiUmJiouLq5W2jxx4oQCAwNPWVN6DK688ko1btxYo0aN0tKlS/XII4/USj+qIiQkxOpPdXXr1k1hYWGSpH79+unIkSNasmSJNm3apMsvv9zjNiVjVZPABwAA2ItLjQAAqCJ/f3/5+fnJ19fXbflvv/2mu+++Wy1atJCfn5/atWunadOmKT8/X5KUl5en2NhYtW/fXjk5OdZ2Bw4cUEREhOLj41VUVFTl/pT84P/pp59OWbdx40b16dNHwcHBCgwMVM+ePfXuu+9a6xctWqThw4dLkhISEqxLXyq6ZGn06NG64oorJEk33nijHA6H2+Uub7/9ti677DIFBgYqODhY/fr1U3p6ulsbJZfZZGRk6Prrr1doaKiio6OrOgRWMHbw4EG35d9//71uvvlmhYeHy+l0qmPHjpo7d661fv369br44oslSbfeeqt1zDNmzJAkbd26VTfddJPatGmjgIAAtWnTRiNGjCg31p4uNaqpsp9rfHy8YmJi9Mknn6hnz54KDAzUbbfdZq0re6lRfn6+Hn30UXXs2FH+/v5q0qSJEhIStGnTJqvGGKOUlBR17dpVAQEBCg0N1fXXX68ff/zRra1t27Zp8ODB1jhGRkZq0KBB+vnnn2vteAEAOFMRvAAAcBpFRUUqLCxUQUGBfv75Z02aNEnHjx/XzTffbNXk5eUpISFBixcv1uTJk/Xuu+8qMTFRTz31lIYNGybpz8DmjTfe0KFDh6wfzMXFxRo5cqSMMVq2bJm8vb2r3L8ffvhBktS0adMKazZs2KDevXsrJydHCxcu1LJlyxQcHKwhQ4Zo+fLlkqRBgwZp5syZkqS5c+cqPT1d6enpGjRokMc2H3roISvEmDlzptLT061LXl577TVdc801CgkJ0bJly7Rw4UJlZ2crPj5eGzduLNfWsGHD1L59e61YsULz58+v8hjs3r1bktwuc9q5c6cuvvhi7dixQ88884xWrVqlQYMGacKECdZZMRdddJFSU1MlSQ8++KB1zLfffrukP++Xc95552n27Nn68MMP9eSTTyorK0sXX3yxfv311yr3syo8fa5ZWVlKTEzUzTffrPfee0933323x20LCws1YMAAPfbYYxo8eLDeeustLVq0SD179tTevXuturvuukuTJk1S3759tXLlSqWkpOjrr79Wz549rRDr+PHj6tevnw4ePKi5c+dqzZo1mj17tlq1aqXc3FwbRwAAgDOEAQAAHqWmphpJ5V5Op9OkpKS41c6fP99IMm+88Ybb8ieffNJIMqtXr7aWLV++3Egys2fPNg8//LDx8vJyW1+Rjz/+2Egyy5cvNwUFBebEiRPmk08+Me3btzfe3t7myy+/NMYYs3v3biPJpKamWtteeumlJjw83OTm5lrLCgsLTUxMjImKijLFxcXGGGNWrFhhJJmPP/64UmNU0qcVK1ZYy4qKikxkZKTp3LmzKSoqspbn5uaa8PBw07NnT2vZ9OnTjSTz8MMPV2l/pcfgv//9rznvvPPMBRdcYLKzs63aq6++2kRFRZmcnBy3NpKTk42/v7/57bffjDHGfP755+XGqyKFhYXm999/N0FBQeb5558v16/S41ZybKdTUnfgwAFTUFBgsrOzzdKlS01AQIBp2bKl+eOPP4wxxsTFxRlJZt26deXaiIuLM3Fxcdb7xYsXG0nmlVdeqXC/6enpRpJ55pln3Jbv27fPBAQEmHvvvdcYY8zWrVuNJLNy5crTHgsAACiPM14AADiNxYsX6/PPP9fnn3+u999/X6NGjdK4ceP04osvWjUfffSRgoKCdP3117ttO3r0aEnSunXrrGU33HCDxo4dqylTpujxxx/XAw88oH79+lW6PzfeeKN8fX0VGBioXr16qaioSP/zP/+jLl26eKw/fvy4Nm/erOuvv16NGjWylnt7eyspKUk///yzvvvuu0rv/3S+++477d+/X0lJSfLy+r//1WjUqJGuu+46ffbZZzpx4oTbNtddd12V9lF6DC6//HIdO3ZM7777rho3bizpzzOQ1q1bp6FDhyowMFCFhYXWa+DAgcrLy9Nnn3122v38/vvvmjp1qtq3by8fHx/5+PioUaNGOn78uNuTpGpDRESEfH19FRoaqsTERF100UX64IMP5O/vb9WEhoaqd+/ep23r/fffl7+/v3VmlSerVq2Sw+FQYmKi2/hERETowgsvtC6bat++vUJDQzV16lTNnz9fO3furPGxAgBwNuHmugAAnEbHjh3L3Vz3p59+0r333qvExEQ1btxYR44cUURERLmnz4SHh8vHx0dHjhxxW37bbbdp3rx58vPz04QJE6rUnyeffFK9e/eWt7e3wsLC1LJly1PWZ2dnyxij5s2bl1sXGRkpSeX6VxMlbVW0v+LiYmVnZ7vdQNdT7amUjMGJEye0evVqzZo1S9dee602b94sp9OpI0eOqLCwUC+88IJeeOEFj21U5lKhm2++WevWrdNDDz2kiy++WCEhIXI4HBo4cKD++OOPKvX5dNauXSuXyyVfX19FRUWpSZMm5WoqO06HDx9WZGSkW/BV1sGDB2WMUbNmzTyub9eunSTJ5XJpw4YN+te//qUHHnhA2dnZat68ue644w49+OCD5e51BAAA3BG8AABQDV26dNGHH36oXbt26ZJLLlGTJk20efNmGWPcwpdDhw6psLDQelqN9OcZKElJSTr33HN18OBB3X777frf//3fSu+7Xbt2bkHQ6YSGhsrLy0tZWVnl1u3fv1+S3PpXUyWBQUX78/LyUmhoqNvy0z0uuazSY9CrVy8FBATowQcf1AsvvKB//vOfCg0Ntc7oGTdunMc22rZte8p95OTkaNWqVZo+fbruu+8+a3l+fr5+++23KvW3Mi688MLTfg6VHaemTZtq48aNKi4urjB8CQsLk8Ph0Keffiqn01lufellnTt31uuvvy5jjL766istWrRIjz76qAICAtzGBgAAlMelRgAAVENmZqak/7vxaZ8+ffT7779r5cqVbnWLFy+21pcYM2aM9u7dq7S0NC1cuFBvv/22nnvuOdv6GhQUpB49eigtLc3tLI3i4mItXbpUUVFR1k1pS35s1+RsjvPOO08tWrTQa6+9JmOMtfz48eN68803rScd1aZ7771X7du31xNPPKHc3FwFBgYqISFB27ZtU5cuXdS9e/dyr5KAqKJjdjgcMsaUCyUWLFhQradP/ZUGDBigvLy8Cp9IJUmDBw+WMUa//PKLx/Hp3LlzuW0cDocuvPBCPffcc2rcuLEyMjJsPAoAAM4MnPECAMBp7NixQ4WFhZL+vIwmLS1Na9as0dChQ62zJm655RbNnTtXo0aN0p49e9S5c2dt3LhRM2fO1MCBA9W3b19Jf/5oX7p0qVJTU9WpUyd16tRJycnJmjp1qi6//HJdcsklthzDrFmz1K9fPyUkJOif//yn/Pz8lJKSoh07dmjZsmXWmRQxMTGSpJdfflnBwcHy9/dX27ZtPV72UhEvLy899dRTGjlypAYPHqy77rpL+fn5evrpp3X06FE98cQTtX58vr6+mjlzpm644QY9//zzevDBB/X888/riiuu0JVXXqmxY8eqTZs2ys3N1Q8//KB33nlHH330kSQpOjpaAQEBevXVV9WxY0c1atRIkZGRioyMVK9evfT0008rLCxMbdq00YYNG7Rw4ULrXjL11YgRI5SamqoxY8bou+++U0JCgoqLi7V582Z17NhRN910ky6//HLdeeeduvXWW7V161b16tVLQUFBysrK0saNG9W5c2eNHTtWq1atUkpKiq699lq1a9dOxhilpaXp6NGjVbo3EQAAZ626u68vAAD1m6enGrlcLtO1a1fz7LPPmry8PLf6I0eOmDFjxpjmzZsbHx8f07p1a3P//fdbdV999ZUJCAgwo0aNctsuLy/PdOvWzbRp08btqTxleXqCkCeenmpkjDGffvqp6d27twkKCjIBAQHm0ksvNe+880657WfPnm3atm1rvL29T/u0n1P1aeXKlaZHjx7G39/fBAUFmT59+pj//ve/bjUlT/Q5fPjwKY+pMvszxpgePXqY0NBQc/ToUWPMn2Nx2223mRYtWhhfX1/TtGlT07NnT/P444+7bbds2TJz/vnnG19fXyPJTJ8+3RhjzM8//2yuu+46ExoaaoKDg03//v3Njh07TOvWrd0+x9p4qtHpxiAuLs506tSpwnWln2pkjDF//PGHefjhh02HDh2Mn5+fadKkiendu7fZtGmTW91//vMf06NHD2teREdHm1tuucVs3brVGGPMt99+a0aMGGGio6NNQECAcblc5pJLLjGLFi067bEBAABjHMaUOgcYAAAAAAAAtYZ7vAAAAAAAANiE4AUAAAAAAMAmBC8AAAAAAAA2IXgBAAAAAACwCcELAAAAAACATQheAAAAAAAAbELwAgAAAAAAYBOCFwAAAAAAAJsQvAAAAAAAANiE4AUAAAAAAMAmBC8AAAAAAAA2IXgBAAAAAACwCcELAAAAAACATQheAAAAAAAAbELwAgAAAAAAYBOCFwAAAAAAAJsQvAAAAAAAANiE4AUAAAAAAMAmBC8AAAAAAAA2IXgBAAAAAACwCcELAAAAAACATQheAAAAAAAAbELwAgAAAAAAYBOf6m5YXFys/fv3Kzg4WA6Hozb7BAAAAAAAUGeMMcrNzVVkZKS8vGp2zkq1g5f9+/erZcuWNdo5AAAAAABAfbVv3z5FRUXVqI1qBy/BwcFWJ0JCQmrUCQAAAAAAgPri2LFjatmypZV91ES1g5eSy4tCQkIIXgAAAAAAwBmnNm6tws11AQAAAAAAbELwAgAAAAAAYBOCFwAAAAAAAJsQvAAAAAAAANiE4AUAAAAAAMAmBC8AAAAAAAA2IXgBAAAAAACwCcELAAAAAACATQheAAAAAAAAbELwAgAAAAAAYBOCFwAAAAAAAJsQvAAAAAAAANiE4AUAAAAAAMAmBC8AAAAAAAA28anrDtQnxhjl5+d7fO90OuVwOE65fWVqAAAAAADA2YPgpZT8/HwNHz682tuvWLFC/v7+tdgjAAAAAADQkHGpEQAAAAAAgE0446UCMwd8I2OMpn1wgSTpX/13yuljytWdLPLSA+93/Ku7BwAAAAAAGgCClwr4eRe7vXf6GI/Bi1TsYRkAAAAAAACXGgEAAAAAANiG4AUAAAAAAMAmBC8AAAAAAAA2IXgBAAAAAACwCcELAAAAAACATQheAAAAAAAAbELwAgAAAAAAYBOCFwAAAAAAAJsQvAAAAAAAANiE4AUAAAAAAMAmBC8AAAAAAAA2IXgBAAAAAACwCcELAAAAAACATQheAAAAAAAAbELwAgAAAAAAYBOCFwAAAAAAAJsQvAAAAAAAANiE4AUAAAAAAMAmBC8AAAAAAAA2IXgBAAAAAACwCcELAAAAAACATQheAAAAAAAAbELwAgAAAAAAYBOCFwAAAAAAAJsQvAAAAAAAANiE4AUAAAAAAMAmBC8AAAAAAAA2IXgBAAAAAACwCcELAAAAAACATQheAAAAAAAAbELwAgAAAAAAYBOCFwAAAAAAAJsQvAAAAAAAANiE4AUAAAAAAMAmPnXdgbpijFF+fr4kyel0yuFw1HGP6mefAAAAAABA9Z21Z7zk5+dr+PDhGj58uBV21LX62CcAAAAAAFB9Z23wAgAAAAAAYDeCFwAAAAAAAJsQvAAAAAAAANiE4AUAAAAAAMAmBC8AAAAAAAA2IXgBAAAAAACwCcELAAAAAACATQheAAAAAAAAbELwAgAAAAAAYBOCFwAAAAAAAJsQvAAAAAAAANiE4AUAAAAAAMAmBC8AAAAAAAA2IXgBAAAAAACwCcELAAAAAACATQheAAAAAAAAbELwAgAAAAAAYBOCFwAAAAAAAJsQvAAAAAAAANiE4AUAAAAAAMAmBC8AAAAAAAA2IXgBAAAAAACwCcELAAAAAACATQheAAAAAAAAbELwAgAAAAAAYBOCFwAAAAAAAJsQvAAAAAAAANiE4AUAAAAAAMAmBC8AAAAAAAA2IXgBAAAAAACwCcELAAAAAACATQheAAAAAAAAbELwAgAAAAAAYBOCFwAAAAAAAJsQvAAAAAAAANjEp647AM+GDx9e1104JS8vL/n6+qqgoEDBwcH6xz/+occee0wFBQXy8/PTtGnT9Oyzz+r3339XQkKC1q5dK0lyOBwKCwvTyZMnVVBQoD/++EOSFBISon/84x9KS0tTZmam/P399cADD2jRokX68ccfFR0drdmzZ+uNN97Q0qVLZYxRUFCQLr30Uq1bt87ql8vl0jXXXKP169crPj5e69ev17nnnqsNGzZoxIgR+uWXX7Ru3TpFR0dr7969GjFihIYPH66MjAzNnTtXOTk5ys/P1znnnKPffvtNsbGxuvbaazV37lwZYzR+/HjFxsa6jUVGRoaeeuopHT9+XLGxsTpy5Ihuv/12GWP04osvyuFwKDk5WcYYLVy4ULfffrtiY2OVkZFhvS9ZFx8fr/fff18Oh0MtWrTQtm3b5HA4lJSUpOjoaKv++++/1+uvv664uDjt2rXLOtaStkt744039Prrr1vHWtLnsvv2tG3pYzxV/R133KEDBw6oefPmevnllyvcb22pav9Le+ihh5SZmanY2Fg9+uijtdqvqip9HJ7mVVWOy1N9VduorLJjOHv2bK1bt059+/bVxIkTa20/takyY+GpxtPcrm77qD2Md8PG5wcAZz6+6905jDGmOhseO3ZMLpdLOTk5CgkJqe1+2e6PP/7QDTfcIElasmSJ/P39lZeXp6SkJEnS04O+lsMh/XNVJ0nSvwd/LadP+aHKK3Boyrud3NqprtTUVL333nvV3r4uBQcHKzc313pfMjeqokmTJjpy5Ij1PjQ0VNnZ2db72bNna9KkSadtx8vLS8XFxdZ/yy4vW7t48WJNnjxZhw4d8theSQgjSeHh4Zo/f758fX0lSQUFBbrzzjv166+/um0THh6u4uJia3l4eLiMMTp8+LCaNWumOXPmaPz48Tp06JDCw8MlSYcOHfLYR+n/AqvDhw8rPDxchw8fVul/uiXbNWvWTPPmzbP6d+LECY0YMcIaj2XLlsnX11djxowpt++y25YoKChwqy99HPPmzVNWVpbGjRtn1c+dO1dhYWHl9hsYGFjRR1YlZftzuv6X9uuvv+rWW2+13qempiosLKxW+lVVpY+jbN9Pta6ybUmqUhuVVXYMy/67XLp0qVwuV433U5sqM56eajzN7VatWlWrfdQexrth4/MDgDPfmfJdX5uZR6XPeMnPz1d+fr5bJxqy0sdSEraUdrLI4TFo8VR3qnbOFqVDF0lVDl0kuYUuktxCF0m65557KtVOSXBRNsDwFGgUFxdrypQpFYYukqzQRfrzB/5bb71lhXZpaWnlQpeSuoreHzp0SLNmzdLhw4fLrfPUR0lW2OGp7dLble3fzJkz3cZj1qxZiomJ8dhW2W1LpKWlnbL+tddec6ufMGGCYmJiyu33scce83hsVXW6/pTtf2njx48v19ey/f+rlD2OsvOqonWVbavsnDldG5VVdgzL/rucMmXKKc8MqQuVGU9PNZ7m9sqVK6vVPmoP492w8fkBwJmP7/ryKn2Pl1mzZsnlclmvli1b2tkvoJxqnpx1WllZWVWqT0tLU1FRkYqKivTWW29VeX/GGGVmZtpyPMYYvfXWWyoqKtLJkyf15Zdfuq3PzMy0fpSfatsSRUVFWrlyZYX1y5cvd6sv2cbTfk+ePFmTQ6tUf8r2v7Tjx4/r999/d1uWm5ur48eP17hfVVX2OEr3/VTrKttWWlqa2+d8ujYqy9MYlv0ssrKyrEsI64PKjGdFY+hpbpcNlav6eaFmGO+Gjc8PAM58fNd7Vung5f7771dOTo712rdvn539sp3T6bT+XrJkiVasWKElS5ZYy/y8K/ejuHRdSTvVfeHUHA7H6YuqoXnz5lWqHzZsmLy9veXt7a2hQ4dWeX8Oh0Ndu3a15XgcDoeGDh0qb29v+fn56cILL3Rb37VrVw0dOtTjvktvW8Lb21vXXntthfU33nijW33JNp726+fnV5NDq1R/yva/tKCgIDVq1MhtWXBwsIKCgmrcr6oqexyl+36qdZVta9iwYW6f8+naqCxPY1j2s2jevLkCAgJqtJ/aVJnxrGgMPc3tspdRVfXzQs0w3g0bnx8AnPn4rves0sGL0+lUSEiI26shK/1jwd/f33r93/rKtvN/f5dupzqva665prYO7y8XHBzs9r4693ho0qSJ2/vQ0FC3988991yl2vHy8nL7b9nlZZc9/fTT1r1CPDnnnHOsv8PDw93ClmHDhnm8R0h4eLjb8vDwcDVt2tT6+/7773d7X7J/T32U/pyvpevL/tgt2a5s/x544AG38bj//vs1bNgwj/suu23pYyxdX/rvoUOHas6cOW71c+bM8bjf2lLV/pf2wgsvlOtrXSl7HGXnVUXrKttWVduorLJjWPbf5dNPP10r+6lNlRkLTzWe5nZ120ftYbwbNj4/ADjz8V1fHo+TrkcSExPruguV5uXlJafTKS8vL7lcLk2ZMsW6YZKfn58mT54sl8slb29v9e3b19quJEBwuVwKDAyUw+GQw+GQy+XSxIkT1bVrV0l/hlj33HOP2rVrJ0mKjo5WdHS0kpKSrNAhKChIffr0ceuXy+VSYmKiWrVqZf23b9++8vX1VWJiolUfHR1tLXO5XBo3bpzCw8OtM6FKwpbY2FhNnDjRChySk5Pdbgzl6+ur8ePHW2dNxMbGqlWrVkpOTtb48ePVtGlThYeHKzk5WcnJyWrVqpXGjRunwMBAjRs3zqot+TsxMdHapuTu3yVPNSrZPjk5WYmJifL19VXfvn3djnXcuHFu/QsMDNTIkSOtYw0MDJSvr6/HfZfdtvQxlq4vfRy+vr5q1aqVIiIiJP15tkOrVq087re2VLX/pYWFhVlzLDY2ts5urCu5H0fZvp9qXWXbqmoblVV2DKOjo61/V3379q13N9aVKjeenmo8ze3qto/aw3g3bHx+AHDm47u+vLP2qUZ5eXnWI25XrFhhPdWoZNm/B38t6fRPNcovdFg1Je3UZp8AAAAAAMBfqzYzD854AQAAAAAAsAnBCwAAAAAAgE0IXgAAAAAAAGxC8AIAAAAAAGATghcAAAAAAACbELwAAAAAAADYhOAFAAAAAADAJgQvAAAAAAAANiF4AQAAAAAAsAnBCwAAAAAAgE0IXgAAAAAAAGxC8AIAAAAAAGATghcAAAAAAACbELwAAAAAAADYhOAFAAAAAADAJgQvAAAAAAAANiF4AQAAAAAAsAnBCwAAAAAAgE0IXgAAAAAAAGxC8AIAAAAAAGATghcAAAAAAACbELwAAAAAAADYhOAFAAAAAADAJgQvAAAAAAAANiF4AQAAAAAAsAnBCwAAAAAAgE0IXgAAAAAAAGxC8AIAAAAAAGATghcAAAAAAACbELwAAAAAAADYhOAFAAAAAADAJgQvAAAAAAAANiF4AQAAAAAAsAnBCwAAAAAAgE0IXgAAAAAAAGziU9cdqCtOp1MrVqyw/q4P6mOfAAAAAABA9Z21wYvD4ZC/v39dd8NNfewTAAAAAACoPi41AgAAAAAAsAnBCwAAAAAAgE0IXgAAAAAAAGxC8AIAAAAAAGATghcAAAAAAACbELwAAAAAAADYhOAFAAAAAADAJgQvAAAAAAAANiF4AQAAAAAAsAnBCwAAAAAAgE0IXgAAAAAAAGxC8AIAAAAAAGATghcAAAAAAACbELwAAAAAAADYhOAFAAAAAADAJgQvAAAAAAAANiF4AQAAAAAAsAnBCwAAAAAAgE0IXgAAAAAAAGxC8AIAAAAAAGATghcAAAAAAACbELwAAAAAAADYhOAFAAAAAADAJgQvAAAAAAAANiF4AQAAAAAAsAnBCwAAAAAAgE0IXgAAAAAAAGxC8AIAAAAAAGATghcAAAAAAACbELwAAAAAAADYhOAFAAAAAADAJgQvAAAAAAAANiF4AQAAAAAAsIlPXXegvjpZ5CVjjPU+v9BRYR0AAAAAAIAnBC8VeOD9jm7vp31wQR31BAAAAAAANFScrgEAAAAAAGATzngpxel0asWKFdZ7Y4zy8/OtdQ6H58uNSm8PAAAAAABQguClFIfDIX9/f7dlAQEBddQbAAAAAADQ0HGpEQAAAAAAgE0IXgAAAAAAAGxC8AIAAAAAAGATghcAAAAAAACbELwAAAAAAADYhOAFAAAAAADAJgQvAAAAAAAANiF4AQAAAAAAsAnBCwAAAAAAgE0IXgAAAAAAAGxC8AIAAAAAAGATghcAAAAAAACbELwAAAAAAADYhOAFAAAAAADAJgQvAAAAAAAANiF4AQAAAAAAsIlPdTc0xkiSjh07VmudAQAAAAAAqGslWUdJ9lET1Q5ecnNzJUktW7ascScAAAAAAADqm9zcXLlcrhq14TDVjG+Ki4u1f/9+BQcHy+Fw1KgTdeHYsWNq2bKl9u3bp5CQkLruDuAR8xQNAfMUDQHzFPUdcxQNAfMUDUFtzVNjjHJzcxUZGSkvr5rdpaXaZ7x4eXkpKiqqRjuvD0JCQvjSQL3HPEVDwDxFQ8A8RX3HHEVDwDxFQ1Ab87SmZ7qU4Oa6AAAAAAAANiF4AQAAAAAAsMlZG7w4nU5Nnz5dTqezrrsCVIh5ioaAeYqGgHmK+o45ioaAeYqGoD7O02rfXBcAAAAAAACndtae8QIAAAAAAGA3ghcAAAAAAACbELwAAAAAAADYhOAFAAAAAADAJmdt8JKSkqK2bdvK399f3bp106efflrXXcIZYNasWbr44osVHBys8PBwXXvttfruu+/caowxmjFjhiIjIxUQEKD4+Hh9/fXXbjX5+fkaP368wsLCFBQUpL/97W/6+eef3Wqys7OVlJQkl8sll8ulpKQkHT161K1m7969GjJkiIKCghQWFqYJEybo5MmTthw7GqZZs2bJ4XBo0qRJ1jLmKOqDX375RYmJiWrSpIkCAwPVtWtXffHFF9Z65inqWmFhoR588EG1bdtWAQEBateunR599FEVFxdbNcxT/NU++eQTDRkyRJGRkXI4HFq5cqXb+vo2J7dv3664uDgFBASoRYsWevTRR8WzX858p5qnBQUFmjp1qjp37qygoCBFRkbqlltu0f79+93aaHDz1JyFXn/9dePr62teeeUVs3PnTjNx4kQTFBRkfvrpp7ruGhq4q6++2qSmppodO3aYzMxMM2jQINOqVSvz+++/WzVPPPGECQ4ONm+++abZvn27ufHGG03z5s3NsWPHrJoxY8aYFi1amDVr1piMjAyTkJBgLrzwQlNYWGjV9O/f38TExJhNmzaZTZs2mZiYGDN48GBrfWFhoYmJiTEJCQkmIyPDrFmzxkRGRprk5OS/ZjBQ723ZssW0adPGdOnSxUycONFazhxFXfvtt99M69atzejRo83mzZvN7t27zdq1a80PP/xg1TBPUdcef/xx06RJE7Nq1Sqze/dus2LFCtOoUSMze/Zsq4Z5ir/ae++9Z6ZNm2befPNNI8m89dZbbuvr05zMyckxzZo1MzfddJPZvn27efPNN01wcLD597//bd8AoV441Tw9evSo6du3r1m+fLn59ttvTXp6uunRo4fp1q2bWxsNbZ6elcHLJZdcYsaMGeO27Pzzzzf33XdfHfUIZ6pDhw4ZSWbDhg3GGGOKi4tNRESEeeKJJ6yavLw843K5zPz5840xf37Z+Pr6mtdff92q+eWXX4yXl5f54IMPjDHG7Ny500gyn332mVWTnp5uJJlvv/3WGPPnF5qXl5f55ZdfrJply5YZp9NpcnJy7DtoNAi5ubmmQ4cOZs2aNSYuLs4KXpijqA+mTp1qrrjiigrXM09RHwwaNMjcdtttbsuGDRtmEhMTjTHMU9S9sj9o69ucTElJMS6Xy+Tl5Vk1s2bNMpGRkaa4uLgWRwL1maeAsKwtW7YYSdaJEg1xnp51lxqdPHlSX3zxha666iq35VdddZU2bdpUR73CmSonJ0eSdM4550iSdu/erQMHDrjNP6fTqbi4OGv+ffHFFyooKHCriYyMVExMjFWTnp4ul8ulHj16WDWXXnqpXC6XW01MTIwiIyOtmquvvlr5+flup+vj7DRu3DgNGjRIffv2dVvOHEV98Pbbb6t79+4aPny4wsPDFRsbq1deecVazzxFfXDFFVdo3bp12rVrlyTpyy+/1MaNGzVw4EBJzFPUP/VtTqanpysuLk5Op9OtZv/+/dqzZ0/tDwAarJycHDkcDjVu3FhSw5ynZ13w8uuvv6qoqEjNmjVzW96sWTMdOHCgjnqFM5ExRpMnT9YVV1yhmJgYSbLm2Knm34EDB+Tn56fQ0NBT1oSHh5fbZ3h4uFtN2f2EhobKz8+PuX6We/3115WRkaFZs2aVW8ccRX3w448/at68eerQoYM+/PBDjRkzRhMmTNDixYslMU9RP0ydOlUjRozQ+eefL19fX8XGxmrSpEkaMWKEJOYp6p/6Nic91ZS8Z96iRF5enu677z7dfPPNCgkJkdQw56lPpSvPMA6Hw+29MabcMqAmkpOT9dVXX2njxo3l1lVn/pWt8VRfnRqcXfbt26eJEydq9erV8vf3r7COOYq6VFxcrO7du2vmzJmSpNjYWH399deaN2+ebrnlFquOeYq6tHz5ci1dulSvvfaaOnXqpMzMTE2aNEmRkZEaNWqUVcc8RX1Tn+akp75UtC3OPgUFBbrppptUXFyslJSU09bX53l61p3xEhYWJm9v73Lp1KFDh8olWUB1jR8/Xm+//bY+/vhjRUVFWcsjIiIklU9HS8+/iIgInTx5UtnZ2aesOXjwYLn9Hj582K2m7H6ys7NVUFDAXD+LffHFFzp06JC6desmHx8f+fj4aMOGDZozZ458fHwqTPCZo/grNW/eXBdccIHbso4dO2rv3r2S+C5F/TBlyhTdd999uummm9S5c2clJSXpnnvusc4mZJ6ivqlvc9JTzaFDhySVPysHZ5+CggLdcMMN2r17t9asWWOd7SI1zHl61gUvfn5+6tatm9asWeO2fM2aNerZs2cd9QpnCmOMkpOTlZaWpo8++kht27Z1W9+2bVtFRES4zb+TJ09qw4YN1vzr1q2bfH193WqysrK0Y8cOq+ayyy5TTk6OtmzZYtVs3rxZOTk5bjU7duxQVlaWVbN69Wo5nU5169at9g8eDUKfPn20fft2ZWZmWq/u3btr5MiRyszMVLt27ZijqHOXX365vvvuO7dlu3btUuvWrSXxXYr64cSJE/Lycv9faW9vb+tx0sxT1Df1bU5edtll+uSTT9we3bt69WpFRkaqTZs2tT8AaDBKQpfvv/9ea9euVZMmTdzWN8h5Wunb8J5BSh4nvXDhQrNz504zadIkExQUZPbs2VPXXUMDN3bsWONyucz69etNVlaW9Tpx4oRV88QTTxiXy2XS0tLM9u3bzYgRIzw+xi8qKsqsXbvWZGRkmN69e3t8PFqXLl1Menq6SU9PN507d/b4eLQ+ffqYjIwMs3btWhMVFcWjJVFO6acaGcMcRd3bsmWL8fHxMf/617/M999/b1599VUTGBholi5datUwT1HXRo0aZVq0aGE9TjotLc2EhYWZe++916phnuKvlpuba7Zt22a2bdtmJJlnn33WbNu2zXoaTH2ak0ePHjXNmjUzI0aMMNu3bzdpaWkmJCSEx0mfBU41TwsKCszf/vY3ExUVZTIzM91+U+Xn51ttNLR5elYGL8YYM3fuXNO6dWvj5+dnLrroIutxv0BNSPL4Sk1NtWqKi4vN9OnTTUREhHE6naZXr15m+/btbu388ccfJjk52ZxzzjkmICDADB482Ozdu9et5siRI2bkyJEmODjYBAcHm5EjR5rs7Gy3mp9++skMGjTIBAQEmHPOOcckJye7PQoNMKZ88MIcRX3wzjvvmJiYGON0Os35559vXn75Zbf1zFPUtWPHjpmJEyeaVq1aGX9/f9OuXTszbdo0tx8GzFP81T7++GOP/y86atQoY0z9m5NfffWVufLKK43T6TQRERFmxowZPEr6LHCqebp79+4Kf1N9/PHHVhsNbZ46jPn/d4YBAAAAAABArTrr7vECAAAAAADwVyF4AQAAAAAAsAnBCwAAAAAAgE0IXgAAAAAAAGxC8AIAAAAAAGATghcAAAAAAACbELwAAAAAAADYhOAFAAAAAADAJgQvAACgzjkcDq1cuVKStGfPHjkcDmVmZtb6ftq0aaPZs2fXersAAAAVIXgBAAAaPXq0HA6HHA6HfHx81KpVK40dO1bZ2dmVbqMmgUlWVpYGDBhQ6fr4+Hirv06nU+eee65mzpypoqKiU273+eef684776xy/wAAAKqL4AUAAEiS+vfvr6ysLO3Zs0cLFizQO++8o7vvvvsv2XdERIScTmeVtrnjjjuUlZWl7777ThMmTNCDDz6of//73x5rT548KUlq2rSpAgMDa9xfAACAyiJ4AQAAkiSn06mIiAhFRUXpqquu0o033qjVq1e71aSmpqpjx47y9/fX+eefr5SUFGtd27ZtJUmxsbFyOByKj4+X9OdZJv369VNYWJhcLpfi4uKUkZHh1m7pS40qKzAwUBEREWrTpo2Sk5PVp08fq43Ro0fr2muv1axZsxQZGalzzz1XUvlLjY4ePao777xTzZo1k7+/v2JiYrRq1Spr/aZNm9SrVy8FBASoZcuWmjBhgo4fP26tT0lJUYcOHeTv769mzZrp+uuvr9IxAACAM59PXXcAAADUPz/++KM++OAD+fr6WsteeeUVTZ8+XS+++KJiY2O1bds23XHHHQoKCtKoUaO0ZcsWXXLJJVq7dq06deokPz8/SVJubq5GjRqlOXPmSJKeeeYZDRw4UN9//72Cg4Nrrc8BAQFul0atW7dOISEhWrNmjYwx5eqLi4s1YMAA5ebmaunSpYqOjtbOnTvl7e0tSdq+fbuuvvpqPfbYY1q4cKEOHz6s5ORkJScnKzU1VVu3btWECRO0ZMkS9ezZU7/99ps+/fTTWjseAABwZiB4AQAAkqRVq1apUaNGKioqUl5eniTp2WeftdY/9thjeuaZZzRs2DBJf57hsnPnTr300ksaNWqUmjZtKklq0qSJIiIirO169+7ttp+XXnpJoaGh2rBhgwYPHlzjfhcXF2v16tX68MMPNWnSJGt5UFCQFixYYAVAZa1du1ZbtmzRN998Y50R065dO2v9008/rZtvvtlqs0OHDpozZ47i4uI0b9487d27V0FBQRo8eLCCg4PVunVrxcbG1vh4AADAmYXgBQAASJISEhI0b948nThxQgsWLNCuXbs0fvx4SdLhw4e1b98+/f3vf9cdd9xhbVNYWCiXy3XKdg8dOqSHH35YH330kQ4ePKiioiKdOHFCe/furVF/U1JStGDBAuv+LUlJSZo+fbq1vnPnzhWGLpKUmZmpqKgoK3Qp64svvtAPP/ygV1991VpmjFFxcbF2796tfv36qXXr1mrXrp369++v/v37a+jQodxDBgAAuCF4AQAAkv48Q6R9+/aSpDlz5ighIUGPPPKIHnvsMRUXF0v683KjHj16uG1XcmlORUaPHq3Dhw9r9uzZat26tZxOpy677DIrMKmukSNHatq0aXI6nYqMjCzXj6CgoFNuHxAQcMr1xcXFuuuuuzRhwoRy61q1aiU/Pz9lZGRo/fr1Wr16tR5++GHNmDFDn3/+uRo3blzl4wEAAGcmghcAAODR9OnTNWDAAI0dO1aRkZFq0aKFfvzxR40cOdJjfcnZJWUf6fzpp58qJSVFAwcOlCTt27dPv/76a43753K5rKCoOrp06aKff/5Zu3bt8njWy0UXXaSvv/76lPvw8fFR37591bdvX02fPl2NGzfWRx99ZF2OBQAAQPACAAA8io+PV6dOnTRz5ky9+OKLmjFjhiZMmKCQkBANGDBA+fn52rp1q7KzszV58mSFh4crICBAH3zwgaKiouTv72+FI0uWLFH37t117NgxTZky5bRnm/wV4uLi1KtXL1133XV69tln1b59e3377bdyOBzq37+/pk6dqksvvVTjxo2zbiL8zTffaM2aNXrhhRe0atUq/fjjj+rVq5dCQ0P13nvvqbi4WOedd15dHxoAAKhHeJw0AACo0OTJk/XKK69o3759uv3227VgwQItWrRInTt3VlxcnBYtWmQ9RtrHx0dz5szRSy+9pMjISF1zzTWSpP/85z/Kzs5WbGyskpKSNGHCBIWHh9flYVnefPNNXXzxxRoxYoQuuOAC3XvvvdYZO126dNGGDRv0/fff68orr1RsbKweeughNW/eXJLUuHFjpaWlqXfv3urYsaPmz5+vZcuWqVOnTnV5SAAAoJ5xGE/PVwQAAAAAAECNccYLAAAAAACATQheAAAAAAAAbELwAgAAAAAAYBOCFwAAAAAAAJsQvAAAAAAAANiE4AUAAAAAAMAmBC8AAAAAAAA2IXgBAAAAAACwCcELAAAAAACATQheAAAAAAAAbELwAgAAAAAAYJP/B/CMtUVfLGtkAAAAAElFTkSuQmCC\n",
      "text/plain": [
       "<Figure size 1400x250 with 1 Axes>"
      ]
     },
     "metadata": {},
     "output_type": "display_data"
    }
   ],
   "source": [
    "plt.figure(figsize=(14,2.5))\n",
    "plt.title('Box Plot for Retail Prices\\n')\n",
    "sns.boxplot(ECom_Data,x='retail_price',color='orange',fliersize=3);\n",
    "plt.xlabel('Retail Prices');"
   ]
  },
  {
   "cell_type": "code",
   "execution_count": 174,
   "id": "4a6ee37d",
   "metadata": {},
   "outputs": [
    {
     "data": {
      "image/png": "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\n",
      "text/plain": [
       "<Figure size 1400x250 with 1 Axes>"
      ]
     },
     "metadata": {},
     "output_type": "display_data"
    }
   ],
   "source": [
    "plt.figure(figsize=(14,2.5))\n",
    "plt.title('Box Plot for Discounted Prices\\n')\n",
    "sns.boxplot(ECom_Data,x='discounted_price',color='red',fliersize=3);\n",
    "plt.xlabel('Discounted Prices');"
   ]
  },
  {
   "cell_type": "markdown",
   "id": "78b92e7c",
   "metadata": {},
   "source": [
    "### Ans 7 b) It can be clearly observed in both the Box Plots above that there are numerous outliers in both the Retail and Discounted prices in the dataset."
   ]
  },
  {
   "cell_type": "markdown",
   "id": "0389c9b8",
   "metadata": {},
   "source": [
    "### Ans 7 c) Below is the scatter plot for the Retail and Discounted prices:"
   ]
  },
  {
   "cell_type": "code",
   "execution_count": 191,
   "id": "d8c44be9",
   "metadata": {},
   "outputs": [
    {
     "data": {
      "image/png": "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\n",
      "text/plain": [
       "<Figure size 640x480 with 1 Axes>"
      ]
     },
     "metadata": {},
     "output_type": "display_data"
    }
   ],
   "source": [
    "sns.scatterplot(ECom_Data,x='retail_price',y='discounted_price',color='purple');\n",
    "plt.title('Scatterplot for Retail and Discounted Prices\\n');\n",
    "plt.xlabel('Retail Price');\n",
    "plt.ylabel('Discounted Price');\n",
    "plt.xlim(0,80000);\n",
    "plt.ylim(0,80000);"
   ]
  },
  {
   "cell_type": "markdown",
   "id": "3bc47f55",
   "metadata": {},
   "source": [
    "<font color='blue'>\n",
    "    <font size = 5>\n",
    "    The next steps will enable to study brand-level information.\n",
    "    </font>"
   ]
  },
  {
   "cell_type": "markdown",
   "id": "b9bd00f7",
   "metadata": {},
   "source": [
    "## Q 8. Create a new dataframe to include the Brand specific information as stated:\n",
    "## i.\ttotal number of orders placed per Brand\n",
    "## ii.\ttotal retail_price per Brand\n",
    "## iii.\ttotal discounted_price per Brand, and \n",
    "## iv.\ttotal BrandRevenue generated per Brand. \n",
    "\n",
    "## Also, draw a pairplot using these four features. (6 marks)\n"
   ]
  },
  {
   "cell_type": "markdown",
   "id": "8f83cea9",
   "metadata": {},
   "source": [
    "### Ans 8 The new dataframe can be created by using the groupby() function on the Brand column of the original ECom_Data dataframe along with defining the aggregate functions separately for each column. The new dataframe namely Brand_Data along with the pairplot for the concerned features can be created in the following manner:"
   ]
  },
  {
   "cell_type": "code",
   "execution_count": 238,
   "id": "0a1f8bed",
   "metadata": {},
   "outputs": [
    {
     "data": {
      "text/html": [
       "<div>\n",
       "<style scoped>\n",
       "    .dataframe tbody tr th:only-of-type {\n",
       "        vertical-align: middle;\n",
       "    }\n",
       "\n",
       "    .dataframe tbody tr th {\n",
       "        vertical-align: top;\n",
       "    }\n",
       "\n",
       "    .dataframe thead th {\n",
       "        text-align: right;\n",
       "    }\n",
       "</style>\n",
       "<table border=\"1\" class=\"dataframe\">\n",
       "  <thead>\n",
       "    <tr style=\"text-align: right;\">\n",
       "      <th></th>\n",
       "      <th>Brand_Count</th>\n",
       "      <th>retail_price</th>\n",
       "      <th>discounted_price</th>\n",
       "      <th>Brand_Revenue</th>\n",
       "    </tr>\n",
       "    <tr>\n",
       "      <th>Brand</th>\n",
       "      <th></th>\n",
       "      <th></th>\n",
       "      <th></th>\n",
       "      <th></th>\n",
       "    </tr>\n",
       "  </thead>\n",
       "  <tbody>\n",
       "    <tr>\n",
       "      <th>1OAK</th>\n",
       "      <td>2</td>\n",
       "      <td>1698</td>\n",
       "      <td>1274</td>\n",
       "      <td>1015.40</td>\n",
       "    </tr>\n",
       "    <tr>\n",
       "      <th>3A AUTOCARE</th>\n",
       "      <td>41</td>\n",
       "      <td>107059</td>\n",
       "      <td>74134</td>\n",
       "      <td>55647.90</td>\n",
       "    </tr>\n",
       "    <tr>\n",
       "      <th>3D MAT</th>\n",
       "      <td>1</td>\n",
       "      <td>7250</td>\n",
       "      <td>6999</td>\n",
       "      <td>5249.25</td>\n",
       "    </tr>\n",
       "    <tr>\n",
       "      <th>3KFACTORY</th>\n",
       "      <td>1</td>\n",
       "      <td>399</td>\n",
       "      <td>174</td>\n",
       "      <td>156.60</td>\n",
       "    </tr>\n",
       "    <tr>\n",
       "      <th>4D</th>\n",
       "      <td>5</td>\n",
       "      <td>17500</td>\n",
       "      <td>7948</td>\n",
       "      <td>5961.00</td>\n",
       "    </tr>\n",
       "    <tr>\n",
       "      <th>4D MATS</th>\n",
       "      <td>3</td>\n",
       "      <td>17200</td>\n",
       "      <td>13800</td>\n",
       "      <td>10350.00</td>\n",
       "    </tr>\n",
       "    <tr>\n",
       "      <th>5 FEELINGS</th>\n",
       "      <td>1</td>\n",
       "      <td>3250</td>\n",
       "      <td>3200</td>\n",
       "      <td>2400.00</td>\n",
       "    </tr>\n",
       "    <tr>\n",
       "      <th>69TH AVENUE</th>\n",
       "      <td>2</td>\n",
       "      <td>1198</td>\n",
       "      <td>1078</td>\n",
       "      <td>916.30</td>\n",
       "    </tr>\n",
       "    <tr>\n",
       "      <th>720 ARMOUR</th>\n",
       "      <td>4</td>\n",
       "      <td>30560</td>\n",
       "      <td>30560</td>\n",
       "      <td>22920.00</td>\n",
       "    </tr>\n",
       "    <tr>\n",
       "      <th>99GEMS</th>\n",
       "      <td>2</td>\n",
       "      <td>598</td>\n",
       "      <td>348</td>\n",
       "      <td>313.20</td>\n",
       "    </tr>\n",
       "  </tbody>\n",
       "</table>\n",
       "</div>"
      ],
      "text/plain": [
       "             Brand_Count  retail_price  discounted_price  Brand_Revenue\n",
       "Brand                                                                  \n",
       "1OAK                   2          1698              1274        1015.40\n",
       "3A AUTOCARE           41        107059             74134       55647.90\n",
       "3D MAT                 1          7250              6999        5249.25\n",
       "3KFACTORY              1           399               174         156.60\n",
       "4D                     5         17500              7948        5961.00\n",
       "4D MATS                3         17200             13800       10350.00\n",
       "5 FEELINGS             1          3250              3200        2400.00\n",
       "69TH AVENUE            2          1198              1078         916.30\n",
       "720 ARMOUR             4         30560             30560       22920.00\n",
       "99GEMS                 2           598               348         313.20"
      ]
     },
     "execution_count": 238,
     "metadata": {},
     "output_type": "execute_result"
    }
   ],
   "source": [
    "Brand_Data = ECom_Data.groupby('Brand').agg({'Brand':'count','retail_price':'sum','discounted_price':'sum','Brand_Revenue':'sum'})\n",
    "#Renaming the Brand column to Brand_Count\n",
    "Brand_Data = Brand_Data.rename(columns={'Brand':'Brand_Count'})\n",
    "Brand_Data.head(10)"
   ]
  },
  {
   "cell_type": "code",
   "execution_count": 241,
   "id": "f877cb32",
   "metadata": {},
   "outputs": [
    {
     "data": {
      "image/png": "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\n",
      "text/plain": [
       "<Figure size 1320x880 with 14 Axes>"
      ]
     },
     "metadata": {},
     "output_type": "display_data"
    }
   ],
   "source": [
    "sns.pairplot(data=Brand_Data[['Brand_Count','retail_price','discounted_price','Brand_Revenue']],corner=True,height=2.2,aspect=1.5);"
   ]
  },
  {
   "cell_type": "markdown",
   "id": "ecec83f4",
   "metadata": {},
   "source": [
    "<font color='blue'>\n",
    "    <font size = 5>\n",
    "    The E-Commerce company operate in multiple regions. It is important to understand its performance in each region.\n",
    "    </font>"
   ]
  },
  {
   "cell_type": "markdown",
   "id": "dd09b8aa",
   "metadata": {},
   "source": [
    "## Q 9.Compare performance regionwise\n",
    "\n",
    "## a)\tDraw a lineplot for the monthly Revenue of E-Commerce Company for each region separately.  (4 marks) \n",
    "\n",
    "## b)\tIdentify the best and the worst performing months for each region. (2 marks)\n",
    "\n",
    "#### Note: Only those days with actual orders(Order_Date) placed are present in the dataset. Assuming there were no orders on other days. Also, show Month and Year on x-axis."
   ]
  },
  {
   "cell_type": "markdown",
   "id": "e6d64aea",
   "metadata": {},
   "source": [
    "### Ans 9 a) A lineplot() is used to visualize the trend of a continuous data variable over a period of time. In order to calculate the Monthly Revenue generated by the E-Commerce Company, we first need to extract the month and year from the Order_Date of the dataset. To accomplish this, the Order_Date column miust be converted into the date_time format."
   ]
  },
  {
   "cell_type": "code",
   "execution_count": 299,
   "id": "0732c521",
   "metadata": {},
   "outputs": [],
   "source": [
    "ECom_Data['Order_Date'] = pd.to_datetime(ECom_Data['Order_Date'],dayfirst=True)"
   ]
  },
  {
   "cell_type": "markdown",
   "id": "30c84c5e",
   "metadata": {},
   "source": [
    "### The Order_Date column has now been converted into the Pandas datetime format. We can now move forward by extracting the respective months and years from this column."
   ]
  },
  {
   "cell_type": "code",
   "execution_count": 300,
   "id": "7efd11a1",
   "metadata": {},
   "outputs": [],
   "source": [
    "ECom_Data['Month'] = ECom_Data['Order_Date'].dt.month\n",
    "ECom_Data['Year'] = ECom_Data['Order_Date'].dt.year"
   ]
  },
  {
   "cell_type": "markdown",
   "id": "220fbd05",
   "metadata": {},
   "source": [
    "### The Monthly Revenue generated by the company can now be calculated by using the groupby() function on the Month, Year columns of the dateframe along with the Company_Revenue column. Since the total revenue needs to be calculated for each month, we will use the aggregate function sum() for this operation:"
   ]
  },
  {
   "cell_type": "code",
   "execution_count": 343,
   "id": "0ccd54f9",
   "metadata": {},
   "outputs": [
    {
     "data": {
      "text/plain": [
       "Year  Month  Region\n",
       "2020  12     East      363413.85\n",
       "             West      302971.95\n",
       "2021  1      East      218740.60\n",
       "2020  12     North     195149.95\n",
       "2021  1      West      145593.75\n",
       "                         ...    \n",
       "      8      North        374.75\n",
       "      7      East         351.35\n",
       "             North        306.00\n",
       "      10     West         236.75\n",
       "             East         202.25\n",
       "Name: Company_Revenue, Length: 37, dtype: float64"
      ]
     },
     "execution_count": 343,
     "metadata": {},
     "output_type": "execute_result"
    }
   ],
   "source": [
    "ECom_Data.groupby(['Year','Month','Region'])['Company_Revenue'].sum().sort_values(ascending=False)"
   ]
  },
  {
   "cell_type": "markdown",
   "id": "3b607d36",
   "metadata": {},
   "source": [
    "### We can now plot the region-wise lineplot on the basis of their respective monthly revenues. The attribute hue can be used here as a legend to differentiate between the various regions."
   ]
  },
  {
   "cell_type": "code",
   "execution_count": 1,
   "id": "83320c84",
   "metadata": {},
   "outputs": [
    {
     "ename": "NameError",
     "evalue": "name 'plt' is not defined",
     "output_type": "error",
     "traceback": [
      "\u001b[1;31m---------------------------------------------------------------------------\u001b[0m",
      "\u001b[1;31mNameError\u001b[0m                                 Traceback (most recent call last)",
      "Cell \u001b[1;32mIn[1], line 1\u001b[0m\n\u001b[1;32m----> 1\u001b[0m \u001b[43mplt\u001b[49m\u001b[38;5;241m.\u001b[39mfigure(figsize\u001b[38;5;241m=\u001b[39m(\u001b[38;5;241m19\u001b[39m,\u001b[38;5;241m8\u001b[39m))\n\u001b[0;32m      2\u001b[0m sns\u001b[38;5;241m.\u001b[39mlineplot(data\u001b[38;5;241m=\u001b[39mECom_Data,x\u001b[38;5;241m=\u001b[39m\u001b[38;5;124m'\u001b[39m\u001b[38;5;124mOrder_Date\u001b[39m\u001b[38;5;124m'\u001b[39m,y\u001b[38;5;241m=\u001b[39m\u001b[38;5;124m'\u001b[39m\u001b[38;5;124mCompany_Revenue\u001b[39m\u001b[38;5;124m'\u001b[39m,hue\u001b[38;5;241m=\u001b[39m\u001b[38;5;124m'\u001b[39m\u001b[38;5;124mRegion\u001b[39m\u001b[38;5;124m'\u001b[39m,ci\u001b[38;5;241m=\u001b[39m\u001b[38;5;28;01mFalse\u001b[39;00m,estimator\u001b[38;5;241m=\u001b[39m\u001b[38;5;124m'\u001b[39m\u001b[38;5;124msum\u001b[39m\u001b[38;5;124m'\u001b[39m)\n",
      "\u001b[1;31mNameError\u001b[0m: name 'plt' is not defined"
     ]
    }
   ],
   "source": [
    "plt.figure(figsize=(19,8))\n",
    "sns.lineplot(data=ECom_Data,x='Order_Date',y='Company_Revenue',hue='Region',ci=False,estimator='sum');"
   ]
  },
  {
   "cell_type": "markdown",
   "id": "dac59dc4",
   "metadata": {},
   "source": [
    "### Ans 9 b) The following observations can be made on the basis of the above lineplot representing the regional-wise monthly sales of the E-Commerce company:\n",
    "\n",
    "\n",
    "<font size = 3>\n",
    "\n",
    "    - For the East region, December'20 was the best performing month.\n",
    "    - For the West region, December'20 was the best performing month.\n",
    "    - For the North region, December'20 was the best performing month.\n",
    "    - For the South region, December'20 was the best performing month.\n",
    "\n",
    "</font>"
   ]
  },
  {
   "cell_type": "markdown",
   "id": "dcb8d39f",
   "metadata": {},
   "source": [
    "<font color='blue'>\n",
    "    <font size = 5>\n",
    "    Congratulations! You have learnt how to approach a complex data and extract information out of it. \n",
    "    </font>"
   ]
  }
 ],
 "metadata": {
  "kernelspec": {
   "display_name": "Python 3 (ipykernel)",
   "language": "python",
   "name": "python3"
  },
  "language_info": {
   "codemirror_mode": {
    "name": "ipython",
    "version": 3
   },
   "file_extension": ".py",
   "mimetype": "text/x-python",
   "name": "python",
   "nbconvert_exporter": "python",
   "pygments_lexer": "ipython3",
   "version": "3.10.9"
  }
 },
 "nbformat": 4,
 "nbformat_minor": 5
}
